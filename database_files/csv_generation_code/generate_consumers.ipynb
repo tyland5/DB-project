{
 "cells": [
  {
   "cell_type": "code",
   "execution_count": 1,
   "metadata": {
    "tags": []
   },
   "outputs": [],
   "source": [
    "import pandas as pd\n",
    "import numpy as np\n",
    "import random"
   ]
  },
  {
   "cell_type": "code",
   "execution_count": 2,
   "metadata": {
    "tags": []
   },
   "outputs": [
    {
     "name": "stdout",
     "output_type": "stream",
     "text": [
      "6782\n"
     ]
    }
   ],
   "source": [
    "# generate random vendor names\n",
    "df_consumers = pd.read_csv('./src_csvs/baby-names.csv')\n",
    "df_consumers = df_consumers['name'].drop_duplicates().values\n",
    "print(len(df_consumers))"
   ]
  },
  {
   "cell_type": "code",
   "execution_count": 3,
   "metadata": {
    "tags": []
   },
   "outputs": [
    {
     "name": "stdout",
     "output_type": "stream",
     "text": [
      "['7336 street ', '4330 street ', '3165 avenue ', '6684 street ', '5863 avenue ', '197 street ', '2713 avenue ', '5394 street ', '554 street ', '7988 street ', '3143 street ', '3371 avenue ', '6299 avenue ', '1202 street ', '1998 avenue ', '3366 street ', '3172 avenue ', '4001 avenue ', '3324 street ', '6651 street ', '7566 street ', '737 street ', '8285 street ', '4455 avenue ', '2079 avenue ', '3161 street ', '8574 street ', '2285 street ', '6188 avenue ', '8112 avenue ', '7101 avenue ', '8146 avenue ', '2474 avenue ', '172 street ', '6324 street ', '2399 street ', '321 street ', '8675 avenue ', '5495 avenue ', '3722 street ', '4450 street ', '2121 street ', '6722 street ', '528 street ', '8829 street ', '485 street ', '7261 avenue ', '7665 avenue ', '7412 street ', '2437 avenue ', '4233 avenue ', '6820 street ', '262 street ', '720 avenue ', '4871 street ', '499 street ', '3853 avenue ', '4502 street ', '838 street ', '8038 avenue ', '2850 avenue ', '7504 avenue ', '868 avenue ', '7362 street ', '2141 street ', '4396 street ', '6625 street ', '7984 street ', '4995 avenue ', '1389 avenue ', '4639 avenue ', '7514 avenue ', '3163 street ', '6660 avenue ', '4741 avenue ', '6683 street ', '73 street ', '2155 street ', '6924 avenue ', '3834 avenue ', '4080 avenue ', '7229 street ', '2158 avenue ', '1817 avenue ', '1842 avenue ', '3762 avenue ', '2649 street ', '1759 avenue ', '1993 street ', '8627 street ', '1129 street ', '645 avenue ', '3780 avenue ', '989 street ', '5313 street ', '201 street ', '7559 street ', '4544 avenue ', '3464 avenue ', '6180 street ', '1303 avenue ', '8288 avenue ', '6039 avenue ', '3413 street ', '7684 street ', '3776 street ', '5778 avenue ', '2767 street ', '226 street ', '3724 street ', '4401 street ', '2623 street ', '7379 avenue ', '6252 street ', '413 avenue ', '5563 street ', '1050 street ', '3223 street ', '4442 avenue ', '6071 street ', '8723 street ', '12 avenue ', '129 street ', '7949 avenue ', '7749 avenue ', '776 avenue ', '8427 street ', '8206 avenue ', '831 street ', '6697 avenue ', '4019 street ', '5407 street ', '5763 avenue ', '3542 avenue ', '5423 avenue ', '5821 street ', '6658 avenue ', '2615 street ', '5440 street ', '8889 avenue ', '4192 street ', '2222 street ', '6617 street ', '6416 avenue ', '1707 avenue ', '6748 avenue ', '8722 avenue ', '5613 street ', '5974 street ', '3295 avenue ', '8847 street ', '8620 street ', '2204 street ', '224 street ', '5147 avenue ', '1130 street ', '8742 street ', '7820 avenue ', '4017 street ', '1484 street ', '6510 street ', '8595 avenue ', '8345 street ', '4538 avenue ', '3547 street ', '8492 street ', '8034 street ', '4817 street ', '7799 street ', '992 avenue ', '7529 street ', '4219 street ', '7007 avenue ', '4863 avenue ', '8606 street ', '2417 avenue ', '3337 street ', '1777 avenue ', '7542 avenue ', '5887 avenue ', '3271 street ', '6150 avenue ', '1497 avenue ', '3396 avenue ', '7100 avenue ', '6861 avenue ', '1794 street ', '4732 avenue ', '4157 avenue ', '6512 avenue ', '6826 avenue ', '8279 street ', '4405 avenue ', '785 avenue ', '1402 street ', '2090 avenue ', '3798 street ', '5497 street ', '2979 avenue ', '8346 avenue ', '1655 street ', '2971 avenue ', '3855 street ', '4748 avenue ', '4386 avenue ', '7356 street ', '7766 avenue ', '6753 street ', '500 avenue ', '3397 avenue ', '6764 street ', '6843 street ', '2915 avenue ', '7528 street ', '6236 street ', '8508 street ', '7770 street ', '5180 street ', '6785 street ', '1852 avenue ', '5838 street ', '353 avenue ', '3041 avenue ', '6545 street ', '1248 street ', '8028 avenue ', '8215 avenue ', '8386 street ', '6175 street ', '3519 street ', '6742 avenue ', '4516 avenue ', '297 avenue ', '3394 street ', '7497 avenue ', '7564 street ', '7862 avenue ', '5765 avenue ', '6430 street ', '7054 avenue ', '5873 avenue ', '3579 street ', '5344 street ', '6890 avenue ', '7082 street ', '1704 street ', '4358 avenue ', '826 street ', '2433 street ', '8742 avenue ', '4406 avenue ', '688 street ', '231 street ', '3322 avenue ', '3139 street ', '221 avenue ', '5117 avenue ', '4135 street ', '1647 avenue ', '6341 avenue ', '4590 avenue ', '1203 street ', '6621 avenue ', '8479 street ', '6112 street ', '6748 avenue ', '7880 street ', '7680 avenue ', '1889 avenue ', '479 street ', '3552 street ', '7093 avenue ', '5611 street ', '2918 avenue ', '1724 avenue ', '1489 avenue ', '8065 avenue ', '726 street ', '3913 street ', '2485 street ', '3253 avenue ', '3077 street ', '1627 street ', '903 avenue ', '1378 avenue ', '4408 avenue ', '8807 avenue ', '8004 avenue ', '6404 avenue ', '1101 street ', '5541 avenue ', '2246 avenue ', '2340 street ', '8214 avenue ', '1287 avenue ', '2038 avenue ', '759 avenue ', '8817 avenue ', '3008 street ', '3773 street ', '8703 street ', '1946 avenue ', '8571 avenue ', '8954 avenue ', '876 street ', '7751 avenue ', '1823 avenue ', '2813 avenue ', '2341 street ', '3326 avenue ', '1469 avenue ', '2560 avenue ', '6093 street ', '2063 avenue ', '8188 street ', '863 avenue ', '8780 avenue ', '8123 street ', '5493 street ', '4756 street ', '3815 street ', '7852 street ', '3514 street ', '1279 avenue ', '4624 street ', '6602 street ', '4145 street ', '5606 street ', '4580 avenue ', '6197 avenue ', '3819 street ', '991 avenue ', '7083 street ', '3966 avenue ', '1315 street ', '3076 street ', '698 street ', '8686 avenue ', '5879 avenue ', '7059 street ', '6860 avenue ', '8891 street ', '1353 avenue ', '6780 avenue ', '6542 street ', '6465 avenue ', '7757 avenue ', '2824 avenue ', '8015 avenue ', '7626 street ', '8947 avenue ', '7922 street ', '5436 avenue ', '506 avenue ', '7467 avenue ', '1717 street ', '8748 street ', '7807 street ', '4292 street ', '5925 avenue ', '2282 street ', '1812 avenue ', '7056 avenue ', '2254 avenue ', '6985 avenue ', '2359 avenue ', '231 street ', '3611 street ', '8618 avenue ', '1872 avenue ', '7517 avenue ', '5844 street ', '4852 avenue ', '7622 street ', '6793 street ', '5094 avenue ', '5124 street ', '100 avenue ', '8839 street ', '8571 avenue ', '1664 street ', '6625 street ', '7078 street ', '4055 avenue ', '953 avenue ', '8436 street ', '47 street ', '5342 avenue ', '410 street ', '5030 street ', '6434 avenue ', '2566 street ', '1274 street ', '1057 avenue ', '8790 avenue ', '8835 street ', '659 street ', '1438 street ', '3865 avenue ', '5586 street ', '7817 avenue ', '4847 street ', '1545 avenue ', '6930 avenue ', '5864 avenue ', '2057 avenue ', '8318 street ', '2604 avenue ', '8825 avenue ', '558 avenue ', '6365 street ', '7381 avenue ', '1001 avenue ', '1845 avenue ', '751 avenue ', '2684 avenue ', '2366 avenue ', '5171 street ', '4451 street ', '6953 street ', '2887 avenue ', '1901 avenue ', '6300 avenue ', '7339 avenue ', '7498 avenue ', '932 street ', '2772 street ', '2339 street ', '4436 street ', '2925 street ', '5214 street ', '8750 street ', '618 avenue ', '2192 street ', '8119 avenue ', '5224 avenue ', '3 avenue ', '3407 street ', '4861 avenue ', '2460 avenue ', '5925 street ', '5235 avenue ', '7292 street ', '2462 street ', '6725 street ', '759 street ', '1572 avenue ', '4572 street ', '649 avenue ', '3057 avenue ', '6002 avenue ', '7613 street ', '3464 avenue ', '413 avenue ', '7507 street ', '4247 avenue ', '5239 street ', '4926 avenue ', '8421 avenue ', '5453 avenue ', '7442 avenue ', '7271 avenue ', '4295 street ', '4996 avenue ', '8588 avenue ', '7987 street ', '5319 avenue ', '7530 street ', '5572 avenue ', '23 street ', '381 street ', '4536 street ', '1113 avenue ', '8173 avenue ', '3850 street ', '7422 street ', '708 avenue ', '523 street ', '4724 street ', '977 avenue ', '831 avenue ', '6398 street ', '5595 avenue ', '940 avenue ', '5975 avenue ', '6329 avenue ', '1524 street ', '4969 street ', '3746 street ', '6941 avenue ', '4727 street ', '7718 avenue ', '3280 avenue ', '5684 street ', '5924 street ', '8368 avenue ', '4107 avenue ', '6155 avenue ', '454 avenue ', '2421 avenue ', '5910 avenue ', '7096 avenue ', '3139 avenue ', '802 street ', '5111 avenue ', '6931 avenue ', '4801 avenue ', '3821 avenue ', '7139 street ', '8194 avenue ', '8426 street ', '2316 avenue ', '8923 street ', '4461 avenue ', '3406 avenue ', '7868 street ', '2548 street ', '6253 street ', '8430 avenue ', '8157 avenue ', '3160 street ', '1981 avenue ', '2385 street ', '2938 street ', '2875 street ', '5933 street ', '6170 avenue ', '2169 avenue ', '4883 avenue ', '4476 street ', '4235 street ', '7818 street ', '2357 street ', '4965 street ', '1111 street ', '7797 avenue ', '5398 street ', '8390 street ', '4675 street ', '3189 avenue ', '228 avenue ', '10 street ', '8049 street ', '1319 avenue ', '4430 avenue ', '1444 street ', '3 avenue ', '2400 street ', '7756 avenue ', '5976 street ', '4940 avenue ', '7260 avenue ', '3393 avenue ', '2779 avenue ', '5824 avenue ', '630 street ', '7591 street ', '5927 street ', '2635 street ', '4406 avenue ', '1171 street ', '4165 avenue ', '2107 avenue ', '2965 avenue ', '4559 street ', '2812 avenue ', '4810 street ', '3562 street ', '2487 avenue ', '8780 avenue ', '4016 avenue ', '4601 street ', '2570 avenue ', '8523 street ', '801 street ', '6857 street ', '1731 street ', '2441 street ', '7366 street ', '8846 avenue ', '1399 street ', '4577 street ', '5729 avenue ', '6477 street ', '7215 street ', '2911 avenue ', '8779 avenue ', '8588 street ', '7059 street ', '3873 street ', '8111 street ', '6238 street ', '1192 street ', '3998 street ', '6776 street ', '3733 avenue ', '4772 street ', '1563 avenue ', '1194 avenue ', '5340 street ', '1678 avenue ', '5647 street ', '136 avenue ', '4997 avenue ', '8991 street ', '7150 street ', '2172 avenue ', '158 avenue ', '4257 street ', '7552 street ', '7779 street ', '2168 avenue ', '5566 street ', '5917 street ', '5543 avenue ', '8468 avenue ', '4664 avenue ', '1730 street ', '363 avenue ', '3529 avenue ', '7935 street ', '4874 avenue ', '240 street ', '5593 street ', '3000 avenue ', '7469 avenue ', '7094 street ', '5717 street ', '4573 street ', '4839 avenue ', '7169 street ', '4536 street ', '2394 street ', '254 avenue ', '7587 street ', '7837 avenue ', '8994 avenue ', '1023 avenue ', '5806 avenue ', '3062 avenue ', '1797 street ', '7776 street ', '1574 street ', '7093 avenue ', '8597 avenue ', '7646 street ', '3318 avenue ', '4161 street ', '2792 avenue ', '4474 street ', '811 street ', '3757 avenue ', '926 street ', '1043 avenue ', '5819 street ', '4302 avenue ', '7971 street ', '1270 street ', '8884 street ', '3907 street ', '4701 street ', '261 avenue ', '1240 street ', '8996 avenue ', '2585 avenue ', '7265 avenue ', '641 avenue ', '940 avenue ', '4962 street ', '293 avenue ', '4027 street ', '4929 avenue ', '3910 avenue ', '1080 street ', '2223 avenue ', '2015 avenue ', '6272 street ', '7237 street ', '7129 street ', '6421 street ', '1511 avenue ', '1023 avenue ', '315 street ', '17 street ', '1192 street ', '5203 avenue ', '2566 avenue ', '8798 avenue ', '2186 street ', '5332 street ', '1984 street ', '7945 avenue ', '853 avenue ', '5779 avenue ', '2975 street ', '384 street ', '7495 avenue ', '7772 avenue ', '5273 street ', '2158 avenue ']\n",
      "['red', 'black', 'blue', 'yellow', 'yellow', 'brown', 'yellow', 'green', 'brown', 'grey', 'blue', 'yellow', 'blue', 'black', 'grey', 'yellow', 'brown', 'red', 'black', 'red', 'blue', 'grey', 'blue', 'black', 'yellow', 'green', 'grey', 'red', 'orange', 'green', 'blue', 'brown', 'blue', 'yellow', 'brown', 'orange', 'green', 'grey', 'orange', 'grey', 'blue', 'brown', 'grey', 'green', 'yellow', 'yellow', 'green', 'green', 'blue', 'yellow', 'black', 'green', 'blue', 'blue', 'green', 'blue', 'orange', 'black', 'black', 'brown', 'green', 'orange', 'black', 'blue', 'orange', 'orange', 'brown', 'red', 'black', 'black', 'orange', 'brown', 'red', 'blue', 'red', 'orange', 'red', 'red', 'green', 'black', 'black', 'black', 'black', 'yellow', 'yellow', 'yellow', 'blue', 'green', 'green', 'brown', 'red', 'orange', 'blue', 'orange', 'yellow', 'orange', 'red', 'brown', 'grey', 'blue', 'green', 'brown', 'blue', 'orange', 'red', 'orange', 'orange', 'grey', 'green', 'green', 'grey', 'grey', 'blue', 'blue', 'grey', 'red', 'grey', 'brown', 'blue', 'grey', 'grey', 'red', 'black', 'red', 'yellow', 'orange', 'brown', 'red', 'green', 'yellow', 'brown', 'blue', 'brown', 'green', 'yellow', 'black', 'red', 'orange', 'grey', 'grey', 'orange', 'red', 'black', 'grey', 'red', 'yellow', 'red', 'green', 'blue', 'black', 'grey', 'orange', 'blue', 'brown', 'grey', 'yellow', 'grey', 'black', 'blue', 'yellow', 'green', 'orange', 'black', 'yellow', 'brown', 'black', 'black', 'orange', 'yellow', 'brown', 'grey', 'orange', 'grey', 'black', 'yellow', 'yellow', 'brown', 'yellow', 'black', 'blue', 'grey', 'grey', 'red', 'black', 'green', 'blue', 'red', 'green', 'blue', 'red', 'red', 'grey', 'brown', 'orange', 'yellow', 'black', 'blue', 'yellow', 'yellow', 'orange', 'brown', 'blue', 'green', 'orange', 'red', 'orange', 'orange', 'blue', 'blue', 'grey', 'brown', 'orange', 'blue', 'black', 'blue', 'yellow', 'yellow', 'yellow', 'grey', 'green', 'brown', 'black', 'green', 'orange', 'brown', 'blue', 'orange', 'black', 'grey', 'orange', 'red', 'black', 'orange', 'black', 'green', 'red', 'orange', 'yellow', 'orange', 'red', 'brown', 'orange', 'brown', 'grey', 'blue', 'blue', 'black', 'blue', 'yellow', 'orange', 'red', 'black', 'red', 'brown', 'orange', 'blue', 'green', 'red', 'grey', 'grey', 'blue', 'grey', 'black', 'orange', 'brown', 'grey', 'blue', 'grey', 'yellow', 'blue', 'orange', 'blue', 'yellow', 'yellow', 'brown', 'orange', 'yellow', 'blue', 'yellow', 'blue', 'orange', 'brown', 'grey', 'grey', 'brown', 'yellow', 'grey', 'brown', 'yellow', 'red', 'yellow', 'brown', 'blue', 'grey', 'red', 'red', 'red', 'grey', 'black', 'green', 'grey', 'grey', 'yellow', 'green', 'orange', 'red', 'grey', 'green', 'brown', 'yellow', 'brown', 'yellow', 'grey', 'grey', 'orange', 'green', 'brown', 'grey', 'yellow', 'blue', 'blue', 'black', 'grey', 'grey', 'grey', 'grey', 'yellow', 'grey', 'orange', 'black', 'orange', 'brown', 'green', 'green', 'grey', 'blue', 'green', 'blue', 'red', 'yellow', 'grey', 'red', 'green', 'yellow', 'green', 'brown', 'orange', 'black', 'orange', 'yellow', 'yellow', 'brown', 'grey', 'orange', 'red', 'brown', 'black', 'yellow', 'grey', 'yellow', 'brown', 'black', 'brown', 'yellow', 'yellow', 'grey', 'black', 'red', 'grey', 'black', 'blue', 'black', 'red', 'green', 'yellow', 'green', 'grey', 'brown', 'grey', 'green', 'brown', 'brown', 'orange', 'yellow', 'blue', 'grey', 'black', 'green', 'yellow', 'black', 'red', 'grey', 'blue', 'orange', 'yellow', 'black', 'green', 'orange', 'grey', 'black', 'green', 'red', 'green', 'orange', 'grey', 'grey', 'blue', 'yellow', 'yellow', 'orange', 'grey', 'green', 'green', 'red', 'orange', 'black', 'black', 'green', 'grey', 'black', 'yellow', 'brown', 'grey', 'blue', 'blue', 'yellow', 'black', 'red', 'black', 'yellow', 'brown', 'black', 'yellow', 'blue', 'orange', 'black', 'green', 'red', 'blue', 'yellow', 'orange', 'blue', 'blue', 'green', 'grey', 'red', 'brown', 'yellow', 'red', 'black', 'orange', 'grey', 'grey', 'red', 'yellow', 'blue', 'blue', 'brown', 'yellow', 'green', 'green', 'grey', 'orange', 'black', 'brown', 'green', 'black', 'green', 'grey', 'orange', 'blue', 'orange', 'black', 'yellow', 'green', 'yellow', 'brown', 'black', 'orange', 'yellow', 'red', 'black', 'orange', 'green', 'red', 'green', 'grey', 'blue', 'yellow', 'grey', 'red', 'red', 'blue', 'orange', 'blue', 'black', 'black', 'brown', 'green', 'green', 'brown', 'grey', 'red', 'blue', 'brown', 'green', 'orange', 'grey', 'black', 'orange', 'brown', 'red', 'brown', 'orange', 'black', 'red', 'yellow', 'green', 'grey', 'yellow', 'orange', 'black', 'orange', 'yellow', 'red', 'grey', 'grey', 'blue', 'black', 'green', 'brown', 'brown', 'brown', 'green', 'yellow', 'brown', 'orange', 'blue', 'black', 'orange', 'yellow', 'black', 'green', 'black', 'yellow', 'yellow', 'grey', 'orange', 'green', 'green', 'brown', 'black', 'grey', 'orange', 'brown', 'blue', 'black', 'black', 'brown', 'orange', 'grey', 'yellow', 'brown', 'green', 'brown', 'green', 'black', 'brown', 'grey', 'black', 'yellow', 'green', 'yellow', 'yellow', 'orange', 'brown', 'brown', 'grey', 'yellow', 'blue', 'green', 'red', 'orange', 'blue', 'yellow', 'yellow', 'green', 'blue', 'green', 'brown', 'yellow', 'red', 'grey', 'grey', 'grey', 'black', 'orange', 'grey', 'orange', 'orange', 'green', 'yellow', 'yellow', 'black', 'blue', 'green', 'brown', 'orange', 'yellow', 'orange', 'blue', 'orange', 'yellow', 'red', 'orange', 'red', 'yellow', 'green', 'yellow', 'black', 'black', 'black', 'black', 'orange', 'green', 'blue', 'blue', 'blue', 'green', 'brown', 'blue', 'brown', 'yellow', 'red', 'black', 'grey', 'black', 'brown', 'grey', 'brown', 'grey', 'yellow', 'orange', 'green', 'black', 'green', 'blue', 'blue', 'grey', 'brown', 'black', 'brown', 'blue', 'black', 'grey', 'brown', 'yellow', 'black', 'yellow', 'orange', 'green', 'green', 'grey', 'red', 'grey', 'yellow', 'red', 'brown', 'red', 'orange', 'black', 'orange', 'brown', 'grey', 'green', 'red', 'yellow', 'green', 'yellow', 'brown', 'grey', 'green', 'orange', 'grey', 'grey', 'blue', 'brown', 'brown', 'green', 'green', 'green', 'grey', 'black', 'green', 'grey', 'blue', 'yellow', 'grey', 'yellow', 'grey']\n",
      "['NJ', 'PA', 'PA', 'NJ', 'NJ', 'NJ', 'PA', 'NY', 'NY', 'PA', 'PA', 'NJ', 'NJ', 'NY', 'NY', 'NY', 'NJ', 'PA', 'PA', 'PA', 'NJ', 'NJ', 'NY', 'NJ', 'NJ', 'NJ', 'PA', 'PA', 'NJ', 'NJ', 'PA', 'PA', 'NJ', 'NJ', 'NY', 'NY', 'NJ', 'NY', 'PA', 'PA', 'NY', 'PA', 'NY', 'PA', 'NJ', 'NJ', 'PA', 'PA', 'NJ', 'NY', 'PA', 'NY', 'NJ', 'NJ', 'NJ', 'NY', 'NY', 'PA', 'NJ', 'PA', 'PA', 'NJ', 'PA', 'NY', 'NY', 'NY', 'NJ', 'NJ', 'PA', 'PA', 'PA', 'PA', 'NJ', 'NJ', 'NJ', 'NJ', 'NY', 'NY', 'NJ', 'PA', 'NJ', 'PA', 'NY', 'NJ', 'NY', 'PA', 'NJ', 'PA', 'NY', 'NY', 'PA', 'NY', 'NY', 'PA', 'PA', 'NJ', 'PA', 'NJ', 'NJ', 'PA', 'NJ', 'NJ', 'NY', 'NY', 'NJ', 'PA', 'NJ', 'PA', 'PA', 'PA', 'PA', 'PA', 'NJ', 'NJ', 'PA', 'PA', 'PA', 'PA', 'NJ', 'PA', 'PA', 'NJ', 'NY', 'NJ', 'NJ', 'NJ', 'NJ', 'NY', 'NJ', 'NJ', 'PA', 'NJ', 'NJ', 'NJ', 'NJ', 'NJ', 'NY', 'NJ', 'NJ', 'NY', 'NJ', 'NY', 'NY', 'NY', 'PA', 'PA', 'NY', 'PA', 'NY', 'NJ', 'PA', 'PA', 'NJ', 'NY', 'PA', 'NY', 'NJ', 'NJ', 'NY', 'NJ', 'PA', 'PA', 'NY', 'NY', 'NY', 'PA', 'NJ', 'NJ', 'PA', 'PA', 'NJ', 'PA', 'PA', 'PA', 'NY', 'NY', 'NJ', 'NY', 'NJ', 'NY', 'NJ', 'PA', 'NY', 'NJ', 'PA', 'PA', 'PA', 'NJ', 'PA', 'NJ', 'NJ', 'PA', 'NJ', 'NJ', 'NJ', 'PA', 'NJ', 'NY', 'NJ', 'NJ', 'NJ', 'NJ', 'NY', 'PA', 'PA', 'NY', 'NJ', 'NY', 'NY', 'NJ', 'NY', 'NJ', 'PA', 'PA', 'NY', 'NJ', 'NY', 'NY', 'PA', 'NJ', 'NY', 'PA', 'NY', 'NY', 'NY', 'NY', 'NY', 'PA', 'NJ', 'NY', 'NY', 'PA', 'NY', 'NJ', 'NJ', 'NY', 'NJ', 'PA', 'NY', 'PA', 'NJ', 'NY', 'NY', 'NJ', 'PA', 'PA', 'NY', 'PA', 'NY', 'PA', 'NJ', 'NJ', 'NJ', 'NY', 'PA', 'NY', 'PA', 'PA', 'NY', 'NJ', 'NJ', 'NY', 'NJ', 'NJ', 'PA', 'NJ', 'PA', 'PA', 'NY', 'PA', 'PA', 'PA', 'NY', 'NJ', 'PA', 'NY', 'NY', 'PA', 'PA', 'NY', 'NY', 'PA', 'NJ', 'PA', 'NJ', 'PA', 'NY', 'NY', 'NJ', 'PA', 'NY', 'PA', 'PA', 'NY', 'PA', 'NJ', 'NJ', 'PA', 'PA', 'PA', 'NJ', 'PA', 'NJ', 'NY', 'PA', 'PA', 'NY', 'NJ', 'NJ', 'NJ', 'NY', 'NY', 'NJ', 'NJ', 'NJ', 'PA', 'PA', 'NJ', 'NY', 'NY', 'PA', 'NJ', 'PA', 'NJ', 'NJ', 'NJ', 'PA', 'NJ', 'NY', 'NJ', 'NJ', 'NY', 'NJ', 'NJ', 'NY', 'PA', 'PA', 'PA', 'PA', 'NJ', 'NY', 'PA', 'NJ', 'NJ', 'PA', 'NY', 'PA', 'PA', 'NY', 'NJ', 'PA', 'NJ', 'PA', 'PA', 'NJ', 'NJ', 'NY', 'NY', 'NY', 'NJ', 'NY', 'PA', 'NJ', 'PA', 'PA', 'PA', 'NY', 'PA', 'NY', 'NY', 'NY', 'NY', 'PA', 'PA', 'NY', 'NJ', 'PA', 'NY', 'NY', 'PA', 'NY', 'NJ', 'NY', 'NJ', 'NJ', 'PA', 'NY', 'NY', 'NJ', 'PA', 'NY', 'NY', 'NY', 'NJ', 'PA', 'NY', 'NJ', 'NJ', 'NJ', 'PA', 'PA', 'PA', 'NY', 'NJ', 'NY', 'NJ', 'NY', 'NY', 'PA', 'NY', 'NY', 'PA', 'NJ', 'NY', 'PA', 'PA', 'NJ', 'PA', 'NY', 'NJ', 'NY', 'NJ', 'NY', 'NY', 'NJ', 'NY', 'NY', 'NY', 'PA', 'NY', 'PA', 'NY', 'NJ', 'PA', 'NY', 'NY', 'NY', 'NJ', 'PA', 'NJ', 'PA', 'NJ', 'PA', 'NY', 'NJ', 'NJ', 'PA', 'NJ', 'NY', 'PA', 'NJ', 'NY', 'PA', 'NY', 'NJ', 'NY', 'NY', 'PA', 'PA', 'NY', 'PA', 'NY', 'NJ', 'PA', 'NY', 'NY', 'PA', 'NJ', 'PA', 'PA', 'PA', 'NJ', 'NJ', 'PA', 'PA', 'NJ', 'NY', 'NY', 'NJ', 'PA', 'NJ', 'NY', 'NY', 'NJ', 'NY', 'NJ', 'PA', 'PA', 'NY', 'NY', 'NY', 'NY', 'PA', 'NY', 'PA', 'NJ', 'NJ', 'NJ', 'PA', 'NY', 'PA', 'NJ', 'NJ', 'NJ', 'NY', 'NJ', 'NY', 'NJ', 'NJ', 'PA', 'NY', 'NY', 'PA', 'NY', 'NJ', 'PA', 'NJ', 'PA', 'NJ', 'NJ', 'PA', 'NJ', 'NY', 'NJ', 'NY', 'PA', 'PA', 'NJ', 'NY', 'NY', 'NY', 'PA', 'PA', 'PA', 'NY', 'NY', 'PA', 'NJ', 'PA', 'NJ', 'PA', 'NY', 'NY', 'NJ', 'NY', 'NJ', 'NY', 'NY', 'PA', 'PA', 'NY', 'NY', 'PA', 'PA', 'PA', 'NY', 'NY', 'PA', 'PA', 'PA', 'PA', 'PA', 'NY', 'PA', 'NY', 'PA', 'NJ', 'NY', 'PA', 'NY', 'PA', 'NY', 'NJ', 'PA', 'PA', 'NJ', 'NY', 'PA', 'NY', 'PA', 'PA', 'PA', 'PA', 'PA', 'NJ', 'PA', 'NY', 'NY', 'NY', 'PA', 'PA', 'NY', 'NY', 'NY', 'NJ', 'NY', 'NJ', 'NJ', 'NJ', 'NJ', 'PA', 'NJ', 'PA', 'NJ', 'NY', 'NJ', 'PA', 'NY', 'PA', 'NY', 'PA', 'NY', 'NJ', 'NY', 'NY', 'PA', 'PA', 'NY', 'NY', 'NJ', 'NJ', 'NJ', 'NJ', 'NY', 'NJ', 'NJ', 'PA', 'NJ', 'PA', 'PA', 'NY', 'PA', 'PA', 'NJ', 'PA', 'NJ', 'PA', 'NJ', 'PA', 'NY', 'PA', 'PA', 'NY', 'NJ', 'NJ', 'NJ', 'NJ', 'NJ', 'NY', 'NJ', 'NY', 'NJ', 'NY', 'PA', 'NJ', 'NJ', 'NY', 'NJ', 'NY', 'PA', 'PA', 'NY', 'PA', 'PA', 'NY', 'NJ', 'NY', 'PA', 'NJ', 'PA', 'NY', 'NY', 'PA', 'PA', 'PA', 'NJ', 'NJ', 'NY', 'NJ', 'NJ', 'PA', 'PA', 'PA', 'PA', 'PA', 'PA', 'NJ', 'NY', 'NY', 'PA', 'NY', 'NJ', 'NJ', 'NJ', 'NJ', 'NJ', 'NJ', 'NJ', 'PA', 'NY']\n",
      "700\n",
      "700\n",
      "700\n"
     ]
    }
   ],
   "source": [
    "#create 700 consumers \n",
    "n = 700\n",
    "\n",
    "# generate locations\n",
    "street_names = []\n",
    "cities = []\n",
    "states = []\n",
    "available_cities = ['red', 'blue', 'green', 'orange', 'yellow', 'brown', 'black', 'grey']\n",
    "available_states = ['NY', 'NJ', 'PA']\n",
    "\n",
    "for i in range(0,n):\n",
    "    number = random.randint(0, 9000)\n",
    "    end = random.randint(0,1)\n",
    "    street = f'{str(number)} {\"street\" if end == 0 else \"avenue\"} '\n",
    "    street_names.append(street)\n",
    "    \n",
    "    state = random.randint(0,len(available_states)-1)\n",
    "    state = available_states[state]\n",
    "    states.append(state)\n",
    "    \n",
    "    city = random.randint(0,len(available_cities)-1)\n",
    "    city = available_cities[city]\n",
    "    cities.append(city)\n",
    "    \n",
    "print(street_names)\n",
    "print(cities)\n",
    "print(states)\n",
    "\n",
    "print(len(street_names))\n",
    "print(len(cities))\n",
    "print(len(states))\n"
   ]
  },
  {
   "cell_type": "code",
   "execution_count": 4,
   "metadata": {},
   "outputs": [
    {
     "name": "stdout",
     "output_type": "stream",
     "text": [
      "['989-917-4090', '480-593-9665', '664-258-4999', '951-682-7782', '214-151-5102', '700-673-3694', '820-462-9905', '354-808-9409', '521-450-7956', '795-252-6305', '432-816-3508', '945-127-4249', '394-559-7598', '631-223-1520', '187-529-2960', '924-511-7276', '492-155-1393', '495-521-3730', '341-942-6484', '336-359-6824', '525-491-8873', '251-728-4267', '117-729-1110', '249-883-4829', '828-390-9201', '449-921-5426', '677-137-8372', '275-675-2351', '105-517-9995', '652-278-2784', '635-864-4464', '580-567-8915', '360-100-2313', '939-546-3225', '707-845-6858', '499-210-4322', '236-947-5480', '407-756-6542', '862-249-3762', '869-581-3855', '197-230-7907', '965-873-5911', '414-717-6200', '108-793-9889', '488-267-4307', '825-630-9483', '503-318-7948', '529-117-3012', '188-386-9754', '147-745-8401', '261-163-5514', '769-910-5284', '810-865-2137', '643-356-2973', '164-559-6403', '813-484-5432', '257-646-7993', '885-783-3281', '560-922-9763', '320-434-1754', '138-283-8763', '682-933-4219', '334-597-3520', '639-591-8027', '589-871-1233', '597-275-1625', '891-886-7032', '402-532-3252', '780-231-5496', '329-486-8347', '412-779-9726', '879-718-7401', '230-520-2178', '701-505-1079', '768-281-5878', '966-225-9912', '983-859-5335', '801-237-6775', '633-448-2911', '901-889-2797', '599-105-9905', '788-207-2750', '471-365-5104', '141-657-3076', '893-829-2242', '327-431-4272', '209-577-2140', '446-641-2939', '548-355-3111', '433-885-1828', '304-179-8448', '929-134-8827', '473-485-1998', '364-832-7683', '849-104-9830', '801-518-4876', '229-648-1577', '108-710-7872', '186-610-7498', '855-580-2071', '204-517-6584', '746-590-6846', '393-601-4610', '156-918-3789', '551-921-4080', '156-581-1277', '159-650-6546', '296-366-8005', '705-176-5142', '609-949-9834', '796-767-7000', '695-513-2851', '417-379-6021', '632-379-7833', '137-895-7787', '164-147-6515', '379-792-6334', '302-280-3998', '966-609-3334', '627-633-4564', '590-786-1455', '800-792-9476', '397-768-1018', '288-979-9525', '285-128-8258', '672-907-9174', '683-424-3644', '156-963-4444', '373-478-7563', '149-495-2687', '535-887-2160', '300-234-1729', '152-131-7199', '984-348-5451', '406-426-9228', '698-982-2346', '568-725-8025', '578-558-6569', '702-802-8792', '908-187-9825', '427-667-5134', '562-492-4819', '774-809-7010', '931-568-7805', '539-817-6890', '364-219-1668', '712-199-5888', '865-662-1607', '726-419-9308', '483-771-5530', '977-892-2065', '904-141-2996', '655-593-6527', '504-467-8590', '654-181-8669', '581-805-6530', '756-332-9307', '614-371-3097', '175-374-4987', '528-179-1758', '231-152-9553', '695-232-5187', '112-216-8903', '106-571-2138', '480-459-9730', '903-323-2816', '418-744-5005', '284-247-9619', '457-139-8367', '405-297-3993', '845-423-3364', '140-126-6721', '897-591-4895', '336-525-2904', '850-497-7112', '780-695-2981', '456-191-6482', '771-163-7516', '913-633-5809', '157-795-4781', '219-731-2733', '508-205-8665', '898-144-9608', '437-516-2618', '320-494-3451', '715-381-9355', '335-434-9914', '816-424-5640', '484-686-6984', '864-106-5896', '621-835-5641', '353-132-3628', '354-182-3228', '656-958-9719', '420-664-7531', '199-379-2619', '612-985-9620', '681-707-3982', '650-513-8617', '761-354-8511', '355-765-6267', '458-932-6126', '533-599-2879', '955-256-6019', '587-213-9159', '588-949-2621', '629-934-9646', '561-564-4520', '957-722-8435', '953-311-3207', '812-457-9676', '987-586-9193', '658-593-3923', '175-789-7791', '373-795-9517', '471-376-2602', '589-516-9622', '962-579-6763', '539-796-9533', '768-917-2322', '250-852-6830', '674-813-3967', '240-247-3316', '633-805-9518', '627-485-3724', '466-805-3418', '469-398-4599', '994-428-7269', '221-349-2851', '507-128-5516', '480-200-7952', '591-510-2949', '307-429-9688', '503-689-6791', '139-273-5291', '772-627-9764', '220-108-1626', '790-667-9822', '481-505-1642', '348-649-2005', '826-953-2433', '952-405-2918', '618-970-7234', '634-521-2980', '169-371-9308', '329-611-9349', '177-618-4469', '293-193-5524', '621-406-9922', '223-195-7297', '220-518-8526', '962-706-3434', '889-301-4186', '534-886-7452', '578-713-1299', '912-655-7128', '554-832-5397', '600-588-4335', '751-782-6887', '507-571-2545', '757-235-4219', '285-608-1963', '850-673-6342', '396-922-6587', '448-734-4963', '978-952-9071', '803-901-1796', '112-479-2787', '225-153-3522', '356-175-6587', '148-590-9196', '651-550-2838', '799-808-6558', '847-388-8789', '104-208-9904', '891-799-9040', '933-253-4230', '731-662-3862', '909-424-2088', '756-638-3221', '462-903-2484', '339-549-6103', '631-332-9548', '504-100-6393', '395-197-3848', '161-604-2768', '139-254-4697', '688-172-7387', '132-252-2291', '330-586-8741', '612-761-5634', '524-172-6598', '305-114-3151', '494-388-2996', '627-949-1603', '586-977-8865', '339-199-1925', '572-482-9902', '237-142-3364', '497-888-6360', '608-692-3862', '986-927-6186', '301-617-7477', '362-501-6712', '159-413-1826', '908-286-8644', '872-392-5121', '151-132-3722', '740-274-9583', '301-993-6363', '143-190-9231', '491-420-8885', '523-749-4586', '427-209-6542', '922-754-2090', '748-828-3720', '534-247-2261', '583-868-3179', '707-104-3862', '235-490-3125', '846-388-8275', '447-707-1147', '991-772-8829', '392-894-4970', '782-642-6856', '996-740-1322', '425-302-4046', '135-499-2887', '420-992-5830', '602-780-7009', '438-608-7754', '475-170-2058', '683-819-2076', '566-660-9112', '726-104-4111', '927-492-7064', '858-187-9508', '906-238-3659', '528-468-3545', '844-869-8405', '236-213-8806', '757-929-6907', '456-936-2321', '128-406-7152', '267-657-4607', '453-388-4616', '787-915-1985', '355-478-7331', '298-133-8176', '686-773-4810', '971-625-6719', '408-651-8965', '661-125-2640', '930-945-4434', '430-511-7181', '796-249-3427', '346-905-4317', '515-134-9327', '858-531-8528', '964-975-3655', '142-247-8781', '118-957-7525', '592-889-5986', '756-242-8148', '678-304-2649', '852-549-2708', '933-285-2785', '115-807-7863', '895-516-2194', '734-812-9504', '444-270-4504', '775-251-9452', '207-289-8400', '256-374-8615', '983-608-1507', '776-506-4053', '667-187-2245', '646-620-6181', '748-145-3823', '658-175-2191', '690-170-7579', '393-524-9968', '194-312-6423', '438-108-4735', '694-350-2098', '266-551-2358', '492-552-9599', '827-566-4182', '585-208-5085', '705-550-6265', '358-682-3919', '117-773-8996', '530-690-1439', '380-717-3181', '940-319-7868', '969-674-1427', '788-450-4489', '860-851-3299', '327-895-4430', '290-651-6973', '641-402-6455', '138-823-4940', '990-823-7382', '636-352-4240', '984-307-5062', '650-769-9021', '419-105-8803', '404-243-4282', '618-633-8470', '662-987-6472', '554-992-6254', '741-912-9102', '224-628-7724', '286-271-7467', '370-121-9517', '926-543-8070', '391-117-1516', '261-304-9118', '887-999-8455', '622-229-7981', '438-875-3769', '752-117-4738', '425-258-8516', '688-646-6880', '751-926-8171', '478-802-4300', '317-451-5458', '166-145-8197', '478-877-9196', '579-236-7393', '348-219-5687', '305-919-8147', '806-949-3478', '849-399-8373', '695-917-8508', '343-227-1803', '323-452-3926', '566-531-7762', '448-702-9012', '217-493-8923', '529-307-3535', '335-384-1548', '774-729-4600', '825-464-4614', '425-854-5707', '816-689-2378', '636-599-8926', '388-953-6173', '347-762-1843', '891-714-5493', '761-629-7928', '395-721-2217', '915-683-8428', '834-656-8549', '740-995-7214', '872-839-9733', '193-992-2474', '570-933-7206', '945-301-2482', '899-249-2878', '879-469-2514', '152-262-6755', '766-308-8518', '142-255-3349', '768-314-9007', '913-295-1642', '703-831-1380', '128-793-1648', '522-647-2864', '552-702-5857', '907-496-2941', '338-800-6890', '659-177-9617', '645-654-5790', '270-329-8014', '523-886-7818', '793-622-2578', '492-745-4203', '873-336-5783', '102-579-6162', '710-674-8334', '172-570-6894', '171-100-1428', '524-852-2891', '178-592-3766', '229-762-2205', '333-554-1297', '149-732-4934', '913-579-2947', '178-742-3211', '684-661-1398', '935-139-7957', '319-776-6619', '228-964-8293', '883-413-1409', '683-264-1605', '508-500-3228', '821-117-2916', '153-880-8794', '815-469-6835', '933-676-6070', '576-472-6205', '240-122-8454', '263-990-6731', '922-346-7773', '254-217-9121', '352-845-2474', '366-214-2826', '425-842-2367', '628-151-8414', '594-570-2986', '218-285-8035', '121-918-9726', '153-381-2281', '267-484-8843', '788-421-2149', '668-610-3038', '433-833-8363', '694-389-6818', '546-156-9046', '618-704-4036', '414-135-7328', '655-998-1532', '166-361-6045', '266-852-6958', '922-151-8177', '574-617-4548', '617-618-1563', '786-435-2612', '992-583-2993', '383-576-9864', '362-858-2277', '528-304-1836', '113-996-2435', '863-817-3534', '109-440-4658', '877-629-3542', '919-889-2718', '550-687-1676', '704-453-4875', '421-383-3883', '295-378-2292', '805-790-3273', '749-845-9045', '626-613-5032', '319-911-6712', '986-117-8629', '479-928-4168', '121-814-9237', '151-434-7598', '463-551-6056', '381-472-6240', '286-960-3565', '484-468-1919', '886-528-3617', '343-908-2724', '374-307-2551', '700-306-4139', '209-308-9514', '582-501-1144', '890-658-3569', '838-338-8348', '786-478-1559', '668-390-2267', '513-271-3293', '853-140-3323', '369-810-1574', '767-425-4068', '682-433-8319', '260-763-2933', '960-920-7590', '717-421-8309', '890-192-2430', '793-661-1117', '274-502-9114', '384-852-7014', '764-680-9440', '595-195-5351', '989-226-8604', '843-232-5251', '531-252-2592', '794-453-9930', '227-292-8096', '816-557-1023', '745-931-7208', '125-889-5453', '107-395-7886', '879-820-2077', '569-215-6947', '606-322-5325', '806-491-1961', '246-677-6561', '378-900-7687', '869-270-5042', '394-604-6364', '276-393-4572', '380-963-7639', '702-191-6414', '611-655-3092', '881-997-4500', '871-817-8784', '284-268-2116', '420-145-8791', '568-464-7138', '274-599-1175', '735-384-7330', '502-437-8421', '416-295-9411', '372-760-2759', '600-937-4399', '505-269-2234', '457-965-9125', '338-794-6054', '664-566-1923', '440-809-3598', '689-504-1841', '609-919-9646', '746-507-3254', '273-703-3164', '895-645-9366', '754-212-9373', '264-531-7627', '519-591-9973', '601-360-6717', '428-432-1882', '918-519-2882', '329-945-7331', '528-396-8918', '419-398-2677', '695-415-9292', '280-397-9099', '254-437-8469', '386-730-3575', '969-326-7296', '959-457-9875', '404-488-5117', '554-793-1217', '124-586-7279', '523-691-9157', '325-984-1498', '338-744-9595', '561-294-2119', '740-116-7403', '602-510-3406', '519-255-2547', '187-741-8836', '207-594-7112', '669-782-1475', '963-461-4685', '189-142-3980', '630-343-5559', '386-979-9755', '317-696-2063', '226-683-5787', '717-487-2915', '549-900-2948', '658-730-8569', '466-313-1768', '339-948-7535', '862-532-7228', '209-507-4469', '950-171-7750', '424-381-3724', '417-315-6599', '733-624-3249', '465-652-6122', '419-952-6014', '825-830-9562', '698-401-1752', '763-784-2094', '407-869-1440', '968-121-8117', '257-277-3185', '572-603-1039', '581-737-9110', '790-941-8820', '397-397-3502', '485-625-5331', '330-572-5446', '371-592-3234', '621-650-3745', '972-746-4888', '883-926-7295', '696-943-3933', '740-265-8274', '842-679-6934', '870-166-6520', '836-516-6740', '957-207-7582', '179-784-4320', '157-302-7604', '977-687-3333', '491-898-6762', '660-937-2479', '962-714-9922', '944-873-5872', '124-911-7758', '559-278-3877', '189-447-5138', '836-482-9128']\n",
      "['consumer0@yahoo.com', 'consumer1@yahoo.com', 'consumer2@yahoo.com', 'consumer3@yahoo.com', 'consumer4@yahoo.com', 'consumer5@yahoo.com', 'consumer6@gmail.com', 'consumer7@gmail.com', 'consumer8@yahoo.com', 'consumer9@yahoo.com', 'consumer10@gmail.com', 'consumer11@yahoo.com', 'consumer12@yahoo.com', 'consumer13@yahoo.com', 'consumer14@gmail.com', 'consumer15@gmail.com', 'consumer16@gmail.com', 'consumer17@yahoo.com', 'consumer18@yahoo.com', 'consumer19@yahoo.com', 'consumer20@gmail.com', 'consumer21@yahoo.com', 'consumer22@gmail.com', 'consumer23@yahoo.com', 'consumer24@gmail.com', 'consumer25@gmail.com', 'consumer26@gmail.com', 'consumer27@yahoo.com', 'consumer28@yahoo.com', 'consumer29@gmail.com', 'consumer30@gmail.com', 'consumer31@yahoo.com', 'consumer32@yahoo.com', 'consumer33@yahoo.com', 'consumer34@gmail.com', 'consumer35@gmail.com', 'consumer36@yahoo.com', 'consumer37@gmail.com', 'consumer38@yahoo.com', 'consumer39@gmail.com', 'consumer40@gmail.com', 'consumer41@gmail.com', 'consumer42@gmail.com', 'consumer43@gmail.com', 'consumer44@gmail.com', 'consumer45@gmail.com', 'consumer46@yahoo.com', 'consumer47@gmail.com', 'consumer48@yahoo.com', 'consumer49@gmail.com', 'consumer50@gmail.com', 'consumer51@yahoo.com', 'consumer52@yahoo.com', 'consumer53@gmail.com', 'consumer54@gmail.com', 'consumer55@gmail.com', 'consumer56@yahoo.com', 'consumer57@gmail.com', 'consumer58@yahoo.com', 'consumer59@gmail.com', 'consumer60@gmail.com', 'consumer61@gmail.com', 'consumer62@gmail.com', 'consumer63@yahoo.com', 'consumer64@gmail.com', 'consumer65@yahoo.com', 'consumer66@gmail.com', 'consumer67@yahoo.com', 'consumer68@yahoo.com', 'consumer69@gmail.com', 'consumer70@yahoo.com', 'consumer71@yahoo.com', 'consumer72@gmail.com', 'consumer73@yahoo.com', 'consumer74@yahoo.com', 'consumer75@gmail.com', 'consumer76@yahoo.com', 'consumer77@gmail.com', 'consumer78@gmail.com', 'consumer79@gmail.com', 'consumer80@yahoo.com', 'consumer81@yahoo.com', 'consumer82@gmail.com', 'consumer83@yahoo.com', 'consumer84@gmail.com', 'consumer85@gmail.com', 'consumer86@gmail.com', 'consumer87@yahoo.com', 'consumer88@yahoo.com', 'consumer89@yahoo.com', 'consumer90@yahoo.com', 'consumer91@yahoo.com', 'consumer92@gmail.com', 'consumer93@gmail.com', 'consumer94@gmail.com', 'consumer95@gmail.com', 'consumer96@gmail.com', 'consumer97@gmail.com', 'consumer98@gmail.com', 'consumer99@yahoo.com', 'consumer100@gmail.com', 'consumer101@gmail.com', 'consumer102@yahoo.com', 'consumer103@yahoo.com', 'consumer104@gmail.com', 'consumer105@yahoo.com', 'consumer106@gmail.com', 'consumer107@yahoo.com', 'consumer108@gmail.com', 'consumer109@gmail.com', 'consumer110@gmail.com', 'consumer111@gmail.com', 'consumer112@gmail.com', 'consumer113@yahoo.com', 'consumer114@yahoo.com', 'consumer115@gmail.com', 'consumer116@gmail.com', 'consumer117@gmail.com', 'consumer118@yahoo.com', 'consumer119@gmail.com', 'consumer120@gmail.com', 'consumer121@gmail.com', 'consumer122@yahoo.com', 'consumer123@yahoo.com', 'consumer124@yahoo.com', 'consumer125@gmail.com', 'consumer126@gmail.com', 'consumer127@yahoo.com', 'consumer128@gmail.com', 'consumer129@gmail.com', 'consumer130@gmail.com', 'consumer131@gmail.com', 'consumer132@yahoo.com', 'consumer133@yahoo.com', 'consumer134@yahoo.com', 'consumer135@gmail.com', 'consumer136@gmail.com', 'consumer137@gmail.com', 'consumer138@gmail.com', 'consumer139@yahoo.com', 'consumer140@gmail.com', 'consumer141@yahoo.com', 'consumer142@yahoo.com', 'consumer143@gmail.com', 'consumer144@yahoo.com', 'consumer145@gmail.com', 'consumer146@yahoo.com', 'consumer147@gmail.com', 'consumer148@gmail.com', 'consumer149@yahoo.com', 'consumer150@yahoo.com', 'consumer151@yahoo.com', 'consumer152@gmail.com', 'consumer153@gmail.com', 'consumer154@yahoo.com', 'consumer155@yahoo.com', 'consumer156@yahoo.com', 'consumer157@yahoo.com', 'consumer158@yahoo.com', 'consumer159@gmail.com', 'consumer160@yahoo.com', 'consumer161@gmail.com', 'consumer162@gmail.com', 'consumer163@yahoo.com', 'consumer164@gmail.com', 'consumer165@yahoo.com', 'consumer166@gmail.com', 'consumer167@yahoo.com', 'consumer168@gmail.com', 'consumer169@yahoo.com', 'consumer170@yahoo.com', 'consumer171@gmail.com', 'consumer172@yahoo.com', 'consumer173@gmail.com', 'consumer174@yahoo.com', 'consumer175@yahoo.com', 'consumer176@yahoo.com', 'consumer177@yahoo.com', 'consumer178@gmail.com', 'consumer179@yahoo.com', 'consumer180@gmail.com', 'consumer181@gmail.com', 'consumer182@yahoo.com', 'consumer183@gmail.com', 'consumer184@yahoo.com', 'consumer185@yahoo.com', 'consumer186@yahoo.com', 'consumer187@gmail.com', 'consumer188@yahoo.com', 'consumer189@gmail.com', 'consumer190@gmail.com', 'consumer191@gmail.com', 'consumer192@gmail.com', 'consumer193@yahoo.com', 'consumer194@gmail.com', 'consumer195@yahoo.com', 'consumer196@gmail.com', 'consumer197@gmail.com', 'consumer198@gmail.com', 'consumer199@yahoo.com', 'consumer200@gmail.com', 'consumer201@gmail.com', 'consumer202@gmail.com', 'consumer203@gmail.com', 'consumer204@gmail.com', 'consumer205@yahoo.com', 'consumer206@yahoo.com', 'consumer207@gmail.com', 'consumer208@gmail.com', 'consumer209@yahoo.com', 'consumer210@gmail.com', 'consumer211@gmail.com', 'consumer212@yahoo.com', 'consumer213@gmail.com', 'consumer214@gmail.com', 'consumer215@yahoo.com', 'consumer216@gmail.com', 'consumer217@gmail.com', 'consumer218@yahoo.com', 'consumer219@yahoo.com', 'consumer220@yahoo.com', 'consumer221@yahoo.com', 'consumer222@yahoo.com', 'consumer223@yahoo.com', 'consumer224@yahoo.com', 'consumer225@gmail.com', 'consumer226@yahoo.com', 'consumer227@yahoo.com', 'consumer228@yahoo.com', 'consumer229@gmail.com', 'consumer230@yahoo.com', 'consumer231@gmail.com', 'consumer232@yahoo.com', 'consumer233@yahoo.com', 'consumer234@yahoo.com', 'consumer235@gmail.com', 'consumer236@yahoo.com', 'consumer237@gmail.com', 'consumer238@gmail.com', 'consumer239@gmail.com', 'consumer240@yahoo.com', 'consumer241@gmail.com', 'consumer242@gmail.com', 'consumer243@gmail.com', 'consumer244@gmail.com', 'consumer245@gmail.com', 'consumer246@yahoo.com', 'consumer247@yahoo.com', 'consumer248@yahoo.com', 'consumer249@gmail.com', 'consumer250@gmail.com', 'consumer251@gmail.com', 'consumer252@yahoo.com', 'consumer253@gmail.com', 'consumer254@yahoo.com', 'consumer255@gmail.com', 'consumer256@gmail.com', 'consumer257@gmail.com', 'consumer258@gmail.com', 'consumer259@yahoo.com', 'consumer260@yahoo.com', 'consumer261@yahoo.com', 'consumer262@yahoo.com', 'consumer263@gmail.com', 'consumer264@gmail.com', 'consumer265@yahoo.com', 'consumer266@gmail.com', 'consumer267@gmail.com', 'consumer268@gmail.com', 'consumer269@yahoo.com', 'consumer270@yahoo.com', 'consumer271@gmail.com', 'consumer272@gmail.com', 'consumer273@gmail.com', 'consumer274@yahoo.com', 'consumer275@gmail.com', 'consumer276@yahoo.com', 'consumer277@gmail.com', 'consumer278@yahoo.com', 'consumer279@gmail.com', 'consumer280@yahoo.com', 'consumer281@gmail.com', 'consumer282@gmail.com', 'consumer283@gmail.com', 'consumer284@gmail.com', 'consumer285@gmail.com', 'consumer286@yahoo.com', 'consumer287@yahoo.com', 'consumer288@yahoo.com', 'consumer289@yahoo.com', 'consumer290@yahoo.com', 'consumer291@gmail.com', 'consumer292@yahoo.com', 'consumer293@gmail.com', 'consumer294@gmail.com', 'consumer295@yahoo.com', 'consumer296@yahoo.com', 'consumer297@yahoo.com', 'consumer298@yahoo.com', 'consumer299@yahoo.com', 'consumer300@yahoo.com', 'consumer301@yahoo.com', 'consumer302@gmail.com', 'consumer303@gmail.com', 'consumer304@yahoo.com', 'consumer305@yahoo.com', 'consumer306@yahoo.com', 'consumer307@gmail.com', 'consumer308@gmail.com', 'consumer309@gmail.com', 'consumer310@gmail.com', 'consumer311@gmail.com', 'consumer312@yahoo.com', 'consumer313@yahoo.com', 'consumer314@yahoo.com', 'consumer315@gmail.com', 'consumer316@yahoo.com', 'consumer317@yahoo.com', 'consumer318@gmail.com', 'consumer319@gmail.com', 'consumer320@gmail.com', 'consumer321@gmail.com', 'consumer322@gmail.com', 'consumer323@yahoo.com', 'consumer324@yahoo.com', 'consumer325@yahoo.com', 'consumer326@gmail.com', 'consumer327@yahoo.com', 'consumer328@yahoo.com', 'consumer329@yahoo.com', 'consumer330@yahoo.com', 'consumer331@yahoo.com', 'consumer332@yahoo.com', 'consumer333@gmail.com', 'consumer334@gmail.com', 'consumer335@gmail.com', 'consumer336@yahoo.com', 'consumer337@yahoo.com', 'consumer338@gmail.com', 'consumer339@yahoo.com', 'consumer340@gmail.com', 'consumer341@gmail.com', 'consumer342@yahoo.com', 'consumer343@yahoo.com', 'consumer344@gmail.com', 'consumer345@yahoo.com', 'consumer346@gmail.com', 'consumer347@yahoo.com', 'consumer348@yahoo.com', 'consumer349@gmail.com', 'consumer350@gmail.com', 'consumer351@gmail.com', 'consumer352@yahoo.com', 'consumer353@gmail.com', 'consumer354@yahoo.com', 'consumer355@gmail.com', 'consumer356@gmail.com', 'consumer357@gmail.com', 'consumer358@yahoo.com', 'consumer359@yahoo.com', 'consumer360@yahoo.com', 'consumer361@gmail.com', 'consumer362@gmail.com', 'consumer363@yahoo.com', 'consumer364@gmail.com', 'consumer365@yahoo.com', 'consumer366@gmail.com', 'consumer367@yahoo.com', 'consumer368@gmail.com', 'consumer369@yahoo.com', 'consumer370@gmail.com', 'consumer371@yahoo.com', 'consumer372@gmail.com', 'consumer373@yahoo.com', 'consumer374@gmail.com', 'consumer375@yahoo.com', 'consumer376@gmail.com', 'consumer377@gmail.com', 'consumer378@gmail.com', 'consumer379@gmail.com', 'consumer380@gmail.com', 'consumer381@yahoo.com', 'consumer382@gmail.com', 'consumer383@yahoo.com', 'consumer384@gmail.com', 'consumer385@yahoo.com', 'consumer386@yahoo.com', 'consumer387@yahoo.com', 'consumer388@yahoo.com', 'consumer389@yahoo.com', 'consumer390@yahoo.com', 'consumer391@gmail.com', 'consumer392@yahoo.com', 'consumer393@gmail.com', 'consumer394@gmail.com', 'consumer395@gmail.com', 'consumer396@gmail.com', 'consumer397@gmail.com', 'consumer398@gmail.com', 'consumer399@gmail.com', 'consumer400@gmail.com', 'consumer401@gmail.com', 'consumer402@gmail.com', 'consumer403@gmail.com', 'consumer404@yahoo.com', 'consumer405@yahoo.com', 'consumer406@gmail.com', 'consumer407@gmail.com', 'consumer408@gmail.com', 'consumer409@gmail.com', 'consumer410@yahoo.com', 'consumer411@yahoo.com', 'consumer412@gmail.com', 'consumer413@yahoo.com', 'consumer414@yahoo.com', 'consumer415@yahoo.com', 'consumer416@gmail.com', 'consumer417@gmail.com', 'consumer418@gmail.com', 'consumer419@yahoo.com', 'consumer420@gmail.com', 'consumer421@gmail.com', 'consumer422@yahoo.com', 'consumer423@gmail.com', 'consumer424@yahoo.com', 'consumer425@gmail.com', 'consumer426@yahoo.com', 'consumer427@yahoo.com', 'consumer428@gmail.com', 'consumer429@yahoo.com', 'consumer430@yahoo.com', 'consumer431@yahoo.com', 'consumer432@yahoo.com', 'consumer433@gmail.com', 'consumer434@gmail.com', 'consumer435@yahoo.com', 'consumer436@yahoo.com', 'consumer437@yahoo.com', 'consumer438@yahoo.com', 'consumer439@yahoo.com', 'consumer440@yahoo.com', 'consumer441@gmail.com', 'consumer442@yahoo.com', 'consumer443@gmail.com', 'consumer444@yahoo.com', 'consumer445@yahoo.com', 'consumer446@yahoo.com', 'consumer447@yahoo.com', 'consumer448@gmail.com', 'consumer449@yahoo.com', 'consumer450@gmail.com', 'consumer451@yahoo.com', 'consumer452@yahoo.com', 'consumer453@gmail.com', 'consumer454@gmail.com', 'consumer455@yahoo.com', 'consumer456@yahoo.com', 'consumer457@yahoo.com', 'consumer458@yahoo.com', 'consumer459@gmail.com', 'consumer460@gmail.com', 'consumer461@yahoo.com', 'consumer462@yahoo.com', 'consumer463@yahoo.com', 'consumer464@gmail.com', 'consumer465@yahoo.com', 'consumer466@gmail.com', 'consumer467@yahoo.com', 'consumer468@yahoo.com', 'consumer469@yahoo.com', 'consumer470@yahoo.com', 'consumer471@yahoo.com', 'consumer472@gmail.com', 'consumer473@yahoo.com', 'consumer474@gmail.com', 'consumer475@yahoo.com', 'consumer476@gmail.com', 'consumer477@yahoo.com', 'consumer478@gmail.com', 'consumer479@gmail.com', 'consumer480@gmail.com', 'consumer481@gmail.com', 'consumer482@yahoo.com', 'consumer483@yahoo.com', 'consumer484@yahoo.com', 'consumer485@yahoo.com', 'consumer486@gmail.com', 'consumer487@gmail.com', 'consumer488@gmail.com', 'consumer489@yahoo.com', 'consumer490@gmail.com', 'consumer491@yahoo.com', 'consumer492@gmail.com', 'consumer493@yahoo.com', 'consumer494@yahoo.com', 'consumer495@gmail.com', 'consumer496@gmail.com', 'consumer497@gmail.com', 'consumer498@yahoo.com', 'consumer499@gmail.com', 'consumer500@yahoo.com', 'consumer501@yahoo.com', 'consumer502@yahoo.com', 'consumer503@yahoo.com', 'consumer504@gmail.com', 'consumer505@gmail.com', 'consumer506@gmail.com', 'consumer507@gmail.com', 'consumer508@gmail.com', 'consumer509@yahoo.com', 'consumer510@gmail.com', 'consumer511@gmail.com', 'consumer512@yahoo.com', 'consumer513@yahoo.com', 'consumer514@gmail.com', 'consumer515@gmail.com', 'consumer516@gmail.com', 'consumer517@yahoo.com', 'consumer518@yahoo.com', 'consumer519@gmail.com', 'consumer520@gmail.com', 'consumer521@yahoo.com', 'consumer522@gmail.com', 'consumer523@gmail.com', 'consumer524@gmail.com', 'consumer525@yahoo.com', 'consumer526@yahoo.com', 'consumer527@yahoo.com', 'consumer528@gmail.com', 'consumer529@gmail.com', 'consumer530@yahoo.com', 'consumer531@gmail.com', 'consumer532@yahoo.com', 'consumer533@gmail.com', 'consumer534@yahoo.com', 'consumer535@yahoo.com', 'consumer536@yahoo.com', 'consumer537@gmail.com', 'consumer538@yahoo.com', 'consumer539@yahoo.com', 'consumer540@gmail.com', 'consumer541@gmail.com', 'consumer542@yahoo.com', 'consumer543@gmail.com', 'consumer544@gmail.com', 'consumer545@yahoo.com', 'consumer546@yahoo.com', 'consumer547@gmail.com', 'consumer548@gmail.com', 'consumer549@yahoo.com', 'consumer550@yahoo.com', 'consumer551@gmail.com', 'consumer552@gmail.com', 'consumer553@gmail.com', 'consumer554@yahoo.com', 'consumer555@yahoo.com', 'consumer556@yahoo.com', 'consumer557@yahoo.com', 'consumer558@yahoo.com', 'consumer559@yahoo.com', 'consumer560@gmail.com', 'consumer561@gmail.com', 'consumer562@yahoo.com', 'consumer563@gmail.com', 'consumer564@yahoo.com', 'consumer565@gmail.com', 'consumer566@gmail.com', 'consumer567@gmail.com', 'consumer568@yahoo.com', 'consumer569@gmail.com', 'consumer570@gmail.com', 'consumer571@yahoo.com', 'consumer572@gmail.com', 'consumer573@gmail.com', 'consumer574@gmail.com', 'consumer575@yahoo.com', 'consumer576@gmail.com', 'consumer577@yahoo.com', 'consumer578@yahoo.com', 'consumer579@gmail.com', 'consumer580@gmail.com', 'consumer581@yahoo.com', 'consumer582@yahoo.com', 'consumer583@gmail.com', 'consumer584@yahoo.com', 'consumer585@gmail.com', 'consumer586@yahoo.com', 'consumer587@yahoo.com', 'consumer588@yahoo.com', 'consumer589@gmail.com', 'consumer590@yahoo.com', 'consumer591@yahoo.com', 'consumer592@gmail.com', 'consumer593@gmail.com', 'consumer594@gmail.com', 'consumer595@yahoo.com', 'consumer596@gmail.com', 'consumer597@yahoo.com', 'consumer598@yahoo.com', 'consumer599@gmail.com', 'consumer600@gmail.com', 'consumer601@gmail.com', 'consumer602@gmail.com', 'consumer603@gmail.com', 'consumer604@yahoo.com', 'consumer605@yahoo.com', 'consumer606@yahoo.com', 'consumer607@gmail.com', 'consumer608@yahoo.com', 'consumer609@gmail.com', 'consumer610@yahoo.com', 'consumer611@yahoo.com', 'consumer612@gmail.com', 'consumer613@gmail.com', 'consumer614@gmail.com', 'consumer615@yahoo.com', 'consumer616@gmail.com', 'consumer617@gmail.com', 'consumer618@yahoo.com', 'consumer619@gmail.com', 'consumer620@gmail.com', 'consumer621@gmail.com', 'consumer622@yahoo.com', 'consumer623@yahoo.com', 'consumer624@gmail.com', 'consumer625@gmail.com', 'consumer626@gmail.com', 'consumer627@yahoo.com', 'consumer628@gmail.com', 'consumer629@yahoo.com', 'consumer630@yahoo.com', 'consumer631@yahoo.com', 'consumer632@gmail.com', 'consumer633@yahoo.com', 'consumer634@gmail.com', 'consumer635@yahoo.com', 'consumer636@gmail.com', 'consumer637@yahoo.com', 'consumer638@yahoo.com', 'consumer639@gmail.com', 'consumer640@yahoo.com', 'consumer641@yahoo.com', 'consumer642@yahoo.com', 'consumer643@gmail.com', 'consumer644@yahoo.com', 'consumer645@gmail.com', 'consumer646@yahoo.com', 'consumer647@gmail.com', 'consumer648@yahoo.com', 'consumer649@gmail.com', 'consumer650@gmail.com', 'consumer651@gmail.com', 'consumer652@yahoo.com', 'consumer653@gmail.com', 'consumer654@gmail.com', 'consumer655@gmail.com', 'consumer656@gmail.com', 'consumer657@gmail.com', 'consumer658@yahoo.com', 'consumer659@yahoo.com', 'consumer660@gmail.com', 'consumer661@gmail.com', 'consumer662@yahoo.com', 'consumer663@gmail.com', 'consumer664@gmail.com', 'consumer665@yahoo.com', 'consumer666@gmail.com', 'consumer667@yahoo.com', 'consumer668@yahoo.com', 'consumer669@yahoo.com', 'consumer670@gmail.com', 'consumer671@gmail.com', 'consumer672@gmail.com', 'consumer673@gmail.com', 'consumer674@gmail.com', 'consumer675@yahoo.com', 'consumer676@yahoo.com', 'consumer677@gmail.com', 'consumer678@gmail.com', 'consumer679@gmail.com', 'consumer680@gmail.com', 'consumer681@gmail.com', 'consumer682@gmail.com', 'consumer683@yahoo.com', 'consumer684@yahoo.com', 'consumer685@gmail.com', 'consumer686@yahoo.com', 'consumer687@gmail.com', 'consumer688@yahoo.com', 'consumer689@gmail.com', 'consumer690@yahoo.com', 'consumer691@yahoo.com', 'consumer692@gmail.com', 'consumer693@gmail.com', 'consumer694@yahoo.com', 'consumer695@yahoo.com', 'consumer696@gmail.com', 'consumer697@yahoo.com', 'consumer698@yahoo.com', 'consumer699@gmail.com']\n",
      "700\n",
      "700\n"
     ]
    }
   ],
   "source": [
    "# generate phone numbers and emails\n",
    "\n",
    "phone_numbers = []\n",
    "emails = []\n",
    "for i in range(0, n):\n",
    "    area_code = random.randint(100,999)\n",
    "    mid_num = random.randint(100,999)\n",
    "    last_dig = random.randint(1000,9999)\n",
    "    phone_number = f'{str(area_code)}-{str(mid_num)}-{str(last_dig)}'\n",
    "    phone_numbers.append(phone_number)\n",
    "    \n",
    "    domain = random.randint(0,1)\n",
    "    email = f'consumer{str(i)}@{\"yahoo\" if domain == 0 else \"gmail\"}.com'\n",
    "    emails.append(email)\n",
    "\n",
    "print(phone_numbers)\n",
    "print(emails)\n",
    "\n",
    "print(len(phone_numbers))\n",
    "print((len(emails)))"
   ]
  },
  {
   "cell_type": "code",
   "execution_count": 5,
   "metadata": {
    "tags": []
   },
   "outputs": [
    {
     "name": "stdout",
     "output_type": "stream",
     "text": [
      "700\n",
      "700\n"
     ]
    }
   ],
   "source": [
    "# generate first and last name columns\n",
    "first_names = []\n",
    "last_names = []\n",
    "for i in range (0,n):\n",
    "    fn_index = random.randint(0, len(df_consumers) - 1)\n",
    "    ln_index = random.randint(0, len(df_consumers) - 1)\n",
    "    \n",
    "    first_names.append(df_consumers[fn_index])\n",
    "    last_names.append(df_consumers[ln_index])\n",
    "\n",
    "print(len(first_names))\n",
    "print(len(last_names))"
   ]
  },
  {
   "cell_type": "code",
   "execution_count": 6,
   "metadata": {},
   "outputs": [
    {
     "data": {
      "text/html": [
       "<div>\n",
       "<style scoped>\n",
       "    .dataframe tbody tr th:only-of-type {\n",
       "        vertical-align: middle;\n",
       "    }\n",
       "\n",
       "    .dataframe tbody tr th {\n",
       "        vertical-align: top;\n",
       "    }\n",
       "\n",
       "    .dataframe thead th {\n",
       "        text-align: right;\n",
       "    }\n",
       "</style>\n",
       "<table border=\"1\" class=\"dataframe\">\n",
       "  <thead>\n",
       "    <tr style=\"text-align: right;\">\n",
       "      <th></th>\n",
       "      <th>first_name</th>\n",
       "      <th>last_name</th>\n",
       "      <th>phone_number</th>\n",
       "      <th>email</th>\n",
       "    </tr>\n",
       "  </thead>\n",
       "  <tbody>\n",
       "    <tr>\n",
       "      <th>0</th>\n",
       "      <td>Jaslyn</td>\n",
       "      <td>Alden</td>\n",
       "      <td>989-917-4090</td>\n",
       "      <td>consumer0@yahoo.com</td>\n",
       "    </tr>\n",
       "    <tr>\n",
       "      <th>1</th>\n",
       "      <td>Adan</td>\n",
       "      <td>Zoe</td>\n",
       "      <td>480-593-9665</td>\n",
       "      <td>consumer1@yahoo.com</td>\n",
       "    </tr>\n",
       "    <tr>\n",
       "      <th>2</th>\n",
       "      <td>Dane</td>\n",
       "      <td>Ryann</td>\n",
       "      <td>664-258-4999</td>\n",
       "      <td>consumer2@yahoo.com</td>\n",
       "    </tr>\n",
       "    <tr>\n",
       "      <th>3</th>\n",
       "      <td>Lainey</td>\n",
       "      <td>Hung</td>\n",
       "      <td>951-682-7782</td>\n",
       "      <td>consumer3@yahoo.com</td>\n",
       "    </tr>\n",
       "    <tr>\n",
       "      <th>4</th>\n",
       "      <td>Darrin</td>\n",
       "      <td>Candace</td>\n",
       "      <td>214-151-5102</td>\n",
       "      <td>consumer4@yahoo.com</td>\n",
       "    </tr>\n",
       "    <tr>\n",
       "      <th>...</th>\n",
       "      <td>...</td>\n",
       "      <td>...</td>\n",
       "      <td>...</td>\n",
       "      <td>...</td>\n",
       "    </tr>\n",
       "    <tr>\n",
       "      <th>695</th>\n",
       "      <td>Metta</td>\n",
       "      <td>Spring</td>\n",
       "      <td>944-873-5872</td>\n",
       "      <td>consumer695@yahoo.com</td>\n",
       "    </tr>\n",
       "    <tr>\n",
       "      <th>696</th>\n",
       "      <td>Thea</td>\n",
       "      <td>Sister</td>\n",
       "      <td>124-911-7758</td>\n",
       "      <td>consumer696@gmail.com</td>\n",
       "    </tr>\n",
       "    <tr>\n",
       "      <th>697</th>\n",
       "      <td>Chance</td>\n",
       "      <td>Therese</td>\n",
       "      <td>559-278-3877</td>\n",
       "      <td>consumer697@yahoo.com</td>\n",
       "    </tr>\n",
       "    <tr>\n",
       "      <th>698</th>\n",
       "      <td>Myrtis</td>\n",
       "      <td>Wesley</td>\n",
       "      <td>189-447-5138</td>\n",
       "      <td>consumer698@yahoo.com</td>\n",
       "    </tr>\n",
       "    <tr>\n",
       "      <th>699</th>\n",
       "      <td>Jeff</td>\n",
       "      <td>Valentin</td>\n",
       "      <td>836-482-9128</td>\n",
       "      <td>consumer699@gmail.com</td>\n",
       "    </tr>\n",
       "  </tbody>\n",
       "</table>\n",
       "<p>700 rows × 4 columns</p>\n",
       "</div>"
      ],
      "text/plain": [
       "    first_name last_name  phone_number                  email\n",
       "0       Jaslyn     Alden  989-917-4090    consumer0@yahoo.com\n",
       "1         Adan       Zoe  480-593-9665    consumer1@yahoo.com\n",
       "2         Dane     Ryann  664-258-4999    consumer2@yahoo.com\n",
       "3       Lainey      Hung  951-682-7782    consumer3@yahoo.com\n",
       "4       Darrin   Candace  214-151-5102    consumer4@yahoo.com\n",
       "..         ...       ...           ...                    ...\n",
       "695      Metta    Spring  944-873-5872  consumer695@yahoo.com\n",
       "696       Thea    Sister  124-911-7758  consumer696@gmail.com\n",
       "697     Chance   Therese  559-278-3877  consumer697@yahoo.com\n",
       "698     Myrtis    Wesley  189-447-5138  consumer698@yahoo.com\n",
       "699       Jeff  Valentin  836-482-9128  consumer699@gmail.com\n",
       "\n",
       "[700 rows x 4 columns]"
      ]
     },
     "execution_count": 6,
     "metadata": {},
     "output_type": "execute_result"
    }
   ],
   "source": [
    "d =  {\n",
    "      'first_name':first_names,\n",
    "      'last_name':last_names, \n",
    "      'phone_number': phone_numbers, \n",
    "      'email': emails}\n",
    "\n",
    "final_df = pd.DataFrame(data=d)\n",
    "\n",
    "final_df\n",
    "    "
   ]
  },
  {
   "cell_type": "code",
   "execution_count": 7,
   "metadata": {
    "tags": []
   },
   "outputs": [],
   "source": [
    "final_df.to_csv('./csv_files/consumer_relation.csv', header= False)"
   ]
  },
  {
   "cell_type": "code",
   "execution_count": null,
   "metadata": {},
   "outputs": [],
   "source": []
  },
  {
   "cell_type": "code",
   "execution_count": null,
   "metadata": {},
   "outputs": [],
   "source": []
  }
 ],
 "metadata": {
  "kernelspec": {
   "display_name": "Python 3 (ipykernel)",
   "language": "python",
   "name": "python3"
  },
  "language_info": {
   "codemirror_mode": {
    "name": "ipython",
    "version": 3
   },
   "file_extension": ".py",
   "mimetype": "text/x-python",
   "name": "python",
   "nbconvert_exporter": "python",
   "pygments_lexer": "ipython3",
   "version": "3.9.18"
  }
 },
 "nbformat": 4,
 "nbformat_minor": 4
}
