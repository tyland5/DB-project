{
 "cells": [
  {
   "cell_type": "code",
   "execution_count": 1,
   "metadata": {
    "tags": []
   },
   "outputs": [],
   "source": [
    "import pandas as pd\n",
    "import numpy as np\n",
    "import random"
   ]
  },
  {
   "cell_type": "code",
   "execution_count": 2,
   "metadata": {
    "tags": []
   },
   "outputs": [
    {
     "name": "stdout",
     "output_type": "stream",
     "text": [
      "                 farm_names\n",
      "0         Golden Acres Farm\n",
      "1          Meadowview Ranch\n",
      "2    Whispering Pines Acres\n",
      "3      Sunny Hill Farmstead\n",
      "4       Apple Orchard Ranch\n",
      "..                      ...\n",
      "101         Birchwood Acres\n",
      "103       Honeysuckle Ranch\n",
      "104    Crimson Clover Acres\n",
      "106      Olive Branch Acres\n",
      "107       Golden Gate Ranch\n",
      "\n",
      "[100 rows x 1 columns]\n"
     ]
    }
   ],
   "source": [
    "# generate random vendor/market names\n",
    "df_markets = pd.read_csv('./src_csvs/farms.csv')\n",
    "df_markets = df_markets.drop_duplicates()[0:100]\n",
    "print(df_markets)"
   ]
  },
  {
   "cell_type": "code",
   "execution_count": 3,
   "metadata": {
    "tags": []
   },
   "outputs": [
    {
     "name": "stdout",
     "output_type": "stream",
     "text": [
      "['Golden Acres Market', 'Meadowview Market', 'Whispering Pines Market', 'Sunny Hill Market', 'Apple Orchard Market', 'Blue Sky Market', 'Hickory Ridge Market', 'Maplewood Market', 'Green Pastures Market', 'Riverbend Market', 'Prairieview Market', 'Sunflower Fields Market', 'Golden Harvest Market', 'Cottonwood Grove Market', 'Red Maple Market', 'Silver Creek Market', 'Hidden Springs Market', 'Misty Morning Market', 'Highland Hills Market', 'Emerald Valley Market', 'Cherry Blossom Market', 'Bluebell Valley Market', 'Pine Tree Market', 'Azure Sky Market', 'Blossom Hill Market', 'Sycamore Valley Market', 'Sunny Slope Market', 'Mountain View Market', 'Starlight Meadows Market', 'Crimson Clover Market', 'Meadow Lark Market', 'Whispering Oaks Market', 'Rocky Top Market', 'Briarwood Market', 'Crimson Ridge Market', 'Golden Fields Market', 'Magnolia Hill Market', 'Silver Lake Market', 'Sycamore Grove Market', 'Sunset Ridge Market', 'Apple Blossom Market', 'Pecan Grove Market', 'Hidden Hollow Market', 'Golden Wheat Market', 'Hazelwood Market', 'Green Meadow Market', 'Rustic Haven Market', 'Harvest Moon Market', 'Ivory Tower Market', 'Wilderness Way Market', 'Goldenrod Market', 'Whistling Wind Market', 'Mossy Oak Market', 'Cedar Springs Market', 'Wildflower Meadows Market', 'Prairie Sunset Market', 'Pine Ridge Market', 'Mountain Laurel Market', 'Orange Blossom Market', 'Harmony Hills Market', 'Golden Gate Market', 'Blue Ridge Market', 'Sycamore Ridge Market', 'Riverfront Market', 'Starshine Market', 'Meadow Brook Market', 'Hidden Springs Market', 'Pecan Valley Market', 'Emerald Isle Market', 'Silver Creek Market', 'Birchwood Market', 'Moonlit Meadows Market', 'Whispering Oaks Market', 'Sunny Side Market', 'Sugar Maple Market', 'Golden Gables Market', 'Violet Valley Market', 'Green Valley Market', 'Applewood Market', 'Redwood Ridge Market', 'Mountain Majesty Market', 'Crystal Springs Market', 'Cherry Tree Market', 'Golden Harvest Market', 'Sycamore Valley Market', 'Whistling Wind Market', 'Silver Lake Market', 'Sunflower Fields Market', 'Cottonwood Grove Market', 'Magnolia Hill Market', 'Meadow Lark Market', 'Golden Wheat Market', 'Rocky Top Market', 'Emerald Hills Market', 'Starlight Meadows Market', 'Birchwood Market', 'Honeysuckle Market', 'Crimson Clover Market', 'Olive Branch Market', 'Golden Gate Market']\n"
     ]
    }
   ],
   "source": [
    "# generate market names\n",
    "df_markets = df_markets.values\n",
    "market_names = []\n",
    "for i in range(0, len(df_markets)):\n",
    "    name = df_markets[i][0]\n",
    "    name = name.split(' ')\n",
    "    name[-1] = 'Market' # replace ranch, acres, or farm with market\n",
    "    name = ' '.join(name)\n",
    "    market_names.append(name)\n",
    "\n",
    "print(market_names)"
   ]
  },
  {
   "cell_type": "code",
   "execution_count": 4,
   "metadata": {
    "tags": []
   },
   "outputs": [
    {
     "name": "stdout",
     "output_type": "stream",
     "text": [
      "['4884 avenue ', '2557 avenue ', '7558 street ', '4848 street ', '2902 avenue ', '592 avenue ', '8250 street ', '2706 street ', '6551 avenue ', '8080 avenue ', '1460 street ', '3303 street ', '1819 avenue ', '3307 street ', '3533 avenue ', '6747 street ', '3195 street ', '5051 avenue ', '4312 avenue ', '8522 street ', '7307 avenue ', '295 street ', '286 street ', '4870 street ', '4983 street ', '3653 avenue ', '7078 street ', '2666 avenue ', '6994 street ', '6811 avenue ', '3573 street ', '7925 street ', '1026 avenue ', '249 street ', '4313 avenue ', '3930 street ', '5738 avenue ', '5676 avenue ', '8681 avenue ', '4690 avenue ', '4881 avenue ', '8131 avenue ', '2234 street ', '7748 street ', '3022 street ', '8466 avenue ', '3970 avenue ', '2692 street ', '8434 street ', '7438 avenue ', '299 avenue ', '3550 avenue ', '4125 avenue ', '1302 avenue ', '2102 street ', '1448 avenue ', '1288 avenue ', '2324 avenue ', '3017 avenue ', '8946 avenue ', '6458 avenue ', '4360 street ', '6665 avenue ', '5816 avenue ', '7004 street ', '2218 street ', '6633 street ', '6253 street ', '1957 street ', '6182 avenue ', '4732 avenue ', '3187 avenue ', '8022 street ', '6954 avenue ', '7070 avenue ', '827 street ', '8687 avenue ', '1343 street ', '2547 avenue ', '298 avenue ', '6881 avenue ', '4184 avenue ', '2779 avenue ', '5979 avenue ', '5576 avenue ', '7321 avenue ', '6943 avenue ', '4967 street ', '4975 avenue ', '6265 avenue ', '8804 street ', '674 avenue ', '3713 avenue ', '4355 street ', '8601 street ', '1842 avenue ', '2503 street ', '4704 street ', '5996 street ', '1085 avenue ']\n",
      "['yellow', 'red', 'yellow', 'orange', 'orange', 'blue', 'brown', 'brown', 'brown', 'grey', 'brown', 'red', 'green', 'green', 'grey', 'yellow', 'orange', 'red', 'red', 'red', 'red', 'blue', 'yellow', 'orange', 'green', 'orange', 'blue', 'grey', 'black', 'black', 'yellow', 'yellow', 'blue', 'grey', 'blue', 'yellow', 'black', 'yellow', 'grey', 'yellow', 'blue', 'orange', 'yellow', 'red', 'blue', 'brown', 'blue', 'blue', 'yellow', 'grey', 'orange', 'black', 'green', 'grey', 'yellow', 'black', 'grey', 'brown', 'grey', 'red', 'grey', 'blue', 'orange', 'red', 'black', 'orange', 'grey', 'red', 'black', 'green', 'brown', 'blue', 'black', 'blue', 'blue', 'green', 'brown', 'green', 'grey', 'green', 'orange', 'brown', 'yellow', 'black', 'orange', 'red', 'black', 'green', 'red', 'green', 'brown', 'orange', 'green', 'blue', 'yellow', 'blue', 'grey', 'orange', 'blue', 'green']\n",
      "['PA', 'NY', 'NJ', 'NJ', 'NY', 'NJ', 'PA', 'PA', 'NY', 'NY', 'NY', 'NJ', 'NJ', 'NJ', 'NJ', 'NY', 'NY', 'NJ', 'PA', 'PA', 'NY', 'NY', 'NY', 'PA', 'NJ', 'PA', 'NJ', 'NY', 'PA', 'PA', 'NJ', 'NY', 'NY', 'PA', 'NJ', 'NY', 'NJ', 'NY', 'NY', 'PA', 'PA', 'PA', 'PA', 'PA', 'NY', 'PA', 'NY', 'NY', 'PA', 'PA', 'NY', 'NY', 'PA', 'NJ', 'PA', 'NJ', 'NY', 'NJ', 'NJ', 'NJ', 'NJ', 'NY', 'PA', 'NY', 'NJ', 'NY', 'PA', 'NJ', 'PA', 'NJ', 'NY', 'NJ', 'NJ', 'PA', 'NY', 'NY', 'NJ', 'PA', 'PA', 'NY', 'NJ', 'NY', 'PA', 'NJ', 'NY', 'NY', 'NJ', 'NJ', 'NJ', 'NY', 'NJ', 'NJ', 'NJ', 'NY', 'NY', 'PA', 'NJ', 'NY', 'NY', 'NY']\n",
      "100\n",
      "100\n",
      "100\n"
     ]
    }
   ],
   "source": [
    "n = len(df_markets)\n",
    "\n",
    "# generate locations\n",
    "street_names = []\n",
    "cities = []\n",
    "states = []\n",
    "available_cities = ['red', 'blue', 'green', 'orange', 'yellow', 'brown', 'black', 'grey']\n",
    "available_states = ['NY', 'NJ', 'PA']\n",
    "\n",
    "for i in range(0,n):\n",
    "    number = random.randint(0, 9000)\n",
    "    end = random.randint(0,1)\n",
    "    street = f'{str(number)} {\"street\" if end == 0 else \"avenue\"} '\n",
    "    street_names.append(street)\n",
    "    \n",
    "    state = random.randint(0,len(available_states)-1)\n",
    "    state = available_states[state]\n",
    "    states.append(state)\n",
    "    \n",
    "    city = random.randint(0,len(available_cities)-1)\n",
    "    city = available_cities[city]\n",
    "    cities.append(city)\n",
    "    \n",
    "print(street_names)\n",
    "print(cities)\n",
    "print(states)\n",
    "\n",
    "print(len(street_names))\n",
    "print(len(cities))\n",
    "print(len(states))\n"
   ]
  },
  {
   "cell_type": "code",
   "execution_count": 5,
   "metadata": {},
   "outputs": [
    {
     "name": "stdout",
     "output_type": "stream",
     "text": [
      "['783-698-4808', '603-954-1864', '583-407-8265', '103-528-3425', '643-102-3350', '493-881-9480', '971-131-2166', '742-526-8916', '140-170-3707', '174-209-3086', '995-539-3694', '184-591-8482', '566-229-5515', '995-874-9961', '795-287-9092', '796-878-6983', '887-515-3232', '802-572-1430', '308-940-9461', '771-549-3940', '296-198-3147', '438-516-1272', '826-588-8202', '961-555-6376', '524-823-7230', '309-547-6301', '920-805-2614', '678-217-9861', '466-150-6611', '809-311-5462', '952-657-3390', '111-300-3765', '836-757-3492', '181-749-5229', '244-948-3981', '106-801-4975', '315-101-6405', '505-776-8811', '836-573-4738', '837-358-7368', '500-705-3576', '907-624-9480', '395-962-1672', '388-109-6112', '736-962-1254', '945-524-9128', '461-832-4197', '793-252-9156', '805-976-6636', '574-222-4693', '155-470-8389', '352-279-7160', '401-260-1107', '138-892-3569', '180-285-4623', '596-631-4681', '492-175-4620', '462-878-1154', '651-471-4853', '945-706-9083', '261-610-7818', '813-474-6516', '424-337-6893', '859-468-4244', '304-686-6321', '498-425-2336', '250-591-6072', '322-318-8732', '621-104-6136', '354-517-9593', '759-989-1260', '152-471-6151', '580-421-5848', '435-559-7846', '277-436-6573', '420-950-9467', '802-933-3409', '311-451-6542', '510-654-8983', '483-872-7688', '581-229-2778', '287-375-5264', '817-627-3192', '190-375-5730', '745-642-9796', '476-408-8266', '621-177-9954', '587-590-8340', '555-207-3972', '576-449-2030', '523-818-4051', '868-290-6734', '588-886-3029', '493-281-6656', '246-130-9861', '686-308-3398', '410-293-6678', '588-280-6350', '133-546-8956', '229-329-7447']\n",
      "100\n"
     ]
    }
   ],
   "source": [
    "# generate phone numbers and emails\n",
    "\n",
    "phone_numbers = []\n",
    "emails = []\n",
    "for i in range(0, n):\n",
    "    area_code = random.randint(100,999)\n",
    "    mid_num = random.randint(100,999)\n",
    "    last_dig = random.randint(1000,9999)\n",
    "    phone_number = f'{str(area_code)}-{str(mid_num)}-{str(last_dig)}'\n",
    "    phone_numbers.append(phone_number)\n",
    "\n",
    "print(phone_numbers)\n",
    "\n",
    "print(len(phone_numbers))"
   ]
  },
  {
   "cell_type": "code",
   "execution_count": 6,
   "metadata": {
    "tags": []
   },
   "outputs": [
    {
     "name": "stdout",
     "output_type": "stream",
     "text": [
      "['9:00', '10:00', '12:00', '10:00', '9:00', '9:00', '11:00', '12:00', '11:00', '10:00', '8:00', '10:00', '11:00', '10:00', '12:00', '8:00', '12:00', '9:00', '8:00', '12:00', '11:00', '9:00', '10:00', '12:00', '11:00', '8:00', '11:00', '12:00', '10:00', '8:00', '9:00', '10:00', '10:00', '9:00', '11:00', '9:00', '12:00', '11:00', '10:00', '9:00', '11:00', '10:00', '11:00', '8:00', '12:00', '11:00', '10:00', '9:00', '9:00', '8:00', '10:00', '10:00', '9:00', '8:00', '12:00', '12:00', '12:00', '10:00', '8:00', '9:00', '8:00', '12:00', '11:00', '8:00', '12:00', '11:00', '9:00', '11:00', '11:00', '12:00', '9:00', '8:00', '8:00', '10:00', '9:00', '8:00', '10:00', '10:00', '9:00', '10:00', '9:00', '9:00', '9:00', '12:00', '8:00', '10:00', '12:00', '8:00', '8:00', '12:00', '8:00', '8:00', '12:00', '10:00', '12:00', '11:00', '9:00', '8:00', '12:00', '11:00']\n",
      "['16:00', '18:00', '18:00', '16:00', '16:00', '17:00', '17:00', '18:00', '17:00', '19:00', '16:00', '19:00', '17:00', '18:00', '17:00', '16:00', '18:00', '18:00', '16:00', '17:00', '17:00', '17:00', '17:00', '18:00', '19:00', '19:00', '18:00', '19:00', '16:00', '17:00', '16:00', '19:00', '18:00', '17:00', '17:00', '19:00', '17:00', '18:00', '18:00', '16:00', '18:00', '19:00', '18:00', '18:00', '19:00', '18:00', '19:00', '18:00', '16:00', '18:00', '19:00', '16:00', '19:00', '18:00', '19:00', '18:00', '17:00', '17:00', '17:00', '16:00', '18:00', '17:00', '19:00', '17:00', '19:00', '19:00', '18:00', '17:00', '17:00', '17:00', '18:00', '19:00', '17:00', '17:00', '19:00', '17:00', '17:00', '16:00', '17:00', '17:00', '17:00', '19:00', '18:00', '19:00', '16:00', '19:00', '18:00', '18:00', '17:00', '16:00', '16:00', '18:00', '16:00', '16:00', '19:00', '16:00', '16:00', '19:00', '19:00', '16:00']\n",
      "100\n",
      "100\n"
     ]
    }
   ],
   "source": [
    "# generate open and closing times\n",
    "# SQL time format is HH:MM\n",
    "\n",
    "open_times =[]\n",
    "close_times = []\n",
    "for i in range(0, n):\n",
    "    # we're making it so vendors can only open within 8 am - 12pm and close within 4 - 7 pm\n",
    "    start = random.randint(8,12)\n",
    "    end = random.randint(16, 19)\n",
    "    \n",
    "    #might have to include 0 in front of times 8 and 9\n",
    "    open_ = f'{str(start)}:00'\n",
    "    close_ = f'{str(end)}:00'\n",
    "    \n",
    "    open_times.append(open_)\n",
    "    close_times.append(close_)\n",
    "    \n",
    "print(open_times)\n",
    "print(close_times)\n",
    "    \n",
    "print(len(open_times))\n",
    "print(len(close_times))\n",
    "    "
   ]
  },
  {
   "cell_type": "code",
   "execution_count": 7,
   "metadata": {
    "tags": []
   },
   "outputs": [
    {
     "name": "stdout",
     "output_type": "stream",
     "text": [
      "['Summer', 'All', 'Fall', 'Spring', 'Spring', 'Summer, Fall', 'Spring, Summer, Fall', 'Fall', 'Spring', 'All', 'All', 'Spring', 'Spring, Fall', 'Summer, Fall', 'Summer', 'Spring, Fall', 'All', 'Fall', 'Summer', 'Summer', 'Summer, Fall', 'All', 'Summer', 'Summer', 'Summer, Fall', 'Fall', 'Spring, Summer, Fall', 'Fall', 'Spring', 'Summer, Fall', 'Fall', 'Spring, Fall', 'All', 'Summer', 'Summer', 'Spring, Summer, Fall', 'Summer, Fall', 'Spring', 'Summer', 'Fall', 'Summer', 'Fall', 'Spring, Fall', 'Summer, Fall', 'Fall', 'Fall', 'All', 'Fall', 'Fall', 'Summer', 'Spring, Summer, Fall', 'Summer, Fall', 'Spring, Summer, Fall', 'Spring, Fall', 'Fall', 'Spring, Summer, Fall', 'Summer, Fall', 'All', 'Summer, Fall', 'Summer', 'Summer', 'All', 'Spring, Fall', 'All', 'Fall', 'Spring, Summer, Fall', 'Spring, Summer, Fall', 'Summer, Fall', 'Spring, Fall', 'Spring, Summer, Fall', 'Summer', 'Spring', 'Spring, Summer, Fall', 'All', 'Fall', 'Fall', 'All', 'Fall', 'Fall', 'Summer', 'Fall', 'Summer, Fall', 'Spring, Summer, Fall', 'Fall', 'Summer, Fall', 'Spring, Fall', 'Fall', 'Spring, Summer, Fall', 'Summer, Fall', 'Fall', 'Spring, Fall', 'Summer', 'Summer, Fall', 'Summer, Fall', 'Spring', 'Fall', 'Spring', 'All', 'Spring, Summer, Fall', 'Fall']\n",
      "100\n"
     ]
    }
   ],
   "source": [
    "available_seasons = ['Spring', 'Fall', 'Summer', 'All', 'Spring, Fall', 'Spring, Summer, Fall', 'Summer, Fall']\n",
    "seasons_op = []\n",
    "\n",
    "for i in range(0, n):\n",
    "    season = random.randint(0,len(available_seasons)-1)\n",
    "    season = available_seasons[season]\n",
    "    seasons_op.append(season)\n",
    "    \n",
    "print(seasons_op)\n",
    "print(len(seasons_op))"
   ]
  },
  {
   "cell_type": "code",
   "execution_count": 8,
   "metadata": {},
   "outputs": [
    {
     "data": {
      "text/html": [
       "<div>\n",
       "<style scoped>\n",
       "    .dataframe tbody tr th:only-of-type {\n",
       "        vertical-align: middle;\n",
       "    }\n",
       "\n",
       "    .dataframe tbody tr th {\n",
       "        vertical-align: top;\n",
       "    }\n",
       "\n",
       "    .dataframe thead th {\n",
       "        text-align: right;\n",
       "    }\n",
       "</style>\n",
       "<table border=\"1\" class=\"dataframe\">\n",
       "  <thead>\n",
       "    <tr style=\"text-align: right;\">\n",
       "      <th></th>\n",
       "      <th>name</th>\n",
       "      <th>open_hours</th>\n",
       "      <th>close_hours</th>\n",
       "      <th>street</th>\n",
       "      <th>city</th>\n",
       "      <th>state</th>\n",
       "      <th>phone_number</th>\n",
       "      <th>season_op</th>\n",
       "    </tr>\n",
       "  </thead>\n",
       "  <tbody>\n",
       "    <tr>\n",
       "      <th>0</th>\n",
       "      <td>Golden Acres Market</td>\n",
       "      <td>9:00</td>\n",
       "      <td>16:00</td>\n",
       "      <td>4884 avenue</td>\n",
       "      <td>yellow</td>\n",
       "      <td>PA</td>\n",
       "      <td>783-698-4808</td>\n",
       "      <td>Summer</td>\n",
       "    </tr>\n",
       "    <tr>\n",
       "      <th>1</th>\n",
       "      <td>Meadowview Market</td>\n",
       "      <td>10:00</td>\n",
       "      <td>18:00</td>\n",
       "      <td>2557 avenue</td>\n",
       "      <td>red</td>\n",
       "      <td>NY</td>\n",
       "      <td>603-954-1864</td>\n",
       "      <td>All</td>\n",
       "    </tr>\n",
       "    <tr>\n",
       "      <th>2</th>\n",
       "      <td>Whispering Pines Market</td>\n",
       "      <td>12:00</td>\n",
       "      <td>18:00</td>\n",
       "      <td>7558 street</td>\n",
       "      <td>yellow</td>\n",
       "      <td>NJ</td>\n",
       "      <td>583-407-8265</td>\n",
       "      <td>Fall</td>\n",
       "    </tr>\n",
       "    <tr>\n",
       "      <th>3</th>\n",
       "      <td>Sunny Hill Market</td>\n",
       "      <td>10:00</td>\n",
       "      <td>16:00</td>\n",
       "      <td>4848 street</td>\n",
       "      <td>orange</td>\n",
       "      <td>NJ</td>\n",
       "      <td>103-528-3425</td>\n",
       "      <td>Spring</td>\n",
       "    </tr>\n",
       "    <tr>\n",
       "      <th>4</th>\n",
       "      <td>Apple Orchard Market</td>\n",
       "      <td>9:00</td>\n",
       "      <td>16:00</td>\n",
       "      <td>2902 avenue</td>\n",
       "      <td>orange</td>\n",
       "      <td>NY</td>\n",
       "      <td>643-102-3350</td>\n",
       "      <td>Spring</td>\n",
       "    </tr>\n",
       "    <tr>\n",
       "      <th>...</th>\n",
       "      <td>...</td>\n",
       "      <td>...</td>\n",
       "      <td>...</td>\n",
       "      <td>...</td>\n",
       "      <td>...</td>\n",
       "      <td>...</td>\n",
       "      <td>...</td>\n",
       "      <td>...</td>\n",
       "    </tr>\n",
       "    <tr>\n",
       "      <th>95</th>\n",
       "      <td>Birchwood Market</td>\n",
       "      <td>11:00</td>\n",
       "      <td>16:00</td>\n",
       "      <td>1842 avenue</td>\n",
       "      <td>blue</td>\n",
       "      <td>PA</td>\n",
       "      <td>686-308-3398</td>\n",
       "      <td>Fall</td>\n",
       "    </tr>\n",
       "    <tr>\n",
       "      <th>96</th>\n",
       "      <td>Honeysuckle Market</td>\n",
       "      <td>9:00</td>\n",
       "      <td>16:00</td>\n",
       "      <td>2503 street</td>\n",
       "      <td>grey</td>\n",
       "      <td>NJ</td>\n",
       "      <td>410-293-6678</td>\n",
       "      <td>Spring</td>\n",
       "    </tr>\n",
       "    <tr>\n",
       "      <th>97</th>\n",
       "      <td>Crimson Clover Market</td>\n",
       "      <td>8:00</td>\n",
       "      <td>19:00</td>\n",
       "      <td>4704 street</td>\n",
       "      <td>orange</td>\n",
       "      <td>NY</td>\n",
       "      <td>588-280-6350</td>\n",
       "      <td>All</td>\n",
       "    </tr>\n",
       "    <tr>\n",
       "      <th>98</th>\n",
       "      <td>Olive Branch Market</td>\n",
       "      <td>12:00</td>\n",
       "      <td>19:00</td>\n",
       "      <td>5996 street</td>\n",
       "      <td>blue</td>\n",
       "      <td>NY</td>\n",
       "      <td>133-546-8956</td>\n",
       "      <td>Spring, Summer, Fall</td>\n",
       "    </tr>\n",
       "    <tr>\n",
       "      <th>99</th>\n",
       "      <td>Golden Gate Market</td>\n",
       "      <td>11:00</td>\n",
       "      <td>16:00</td>\n",
       "      <td>1085 avenue</td>\n",
       "      <td>green</td>\n",
       "      <td>NY</td>\n",
       "      <td>229-329-7447</td>\n",
       "      <td>Fall</td>\n",
       "    </tr>\n",
       "  </tbody>\n",
       "</table>\n",
       "<p>100 rows × 8 columns</p>\n",
       "</div>"
      ],
      "text/plain": [
       "                       name open_hours close_hours        street    city  \\\n",
       "0       Golden Acres Market       9:00       16:00  4884 avenue   yellow   \n",
       "1         Meadowview Market      10:00       18:00  2557 avenue      red   \n",
       "2   Whispering Pines Market      12:00       18:00  7558 street   yellow   \n",
       "3         Sunny Hill Market      10:00       16:00  4848 street   orange   \n",
       "4      Apple Orchard Market       9:00       16:00  2902 avenue   orange   \n",
       "..                      ...        ...         ...           ...     ...   \n",
       "95         Birchwood Market      11:00       16:00  1842 avenue     blue   \n",
       "96       Honeysuckle Market       9:00       16:00  2503 street     grey   \n",
       "97    Crimson Clover Market       8:00       19:00  4704 street   orange   \n",
       "98      Olive Branch Market      12:00       19:00  5996 street     blue   \n",
       "99       Golden Gate Market      11:00       16:00  1085 avenue    green   \n",
       "\n",
       "   state  phone_number             season_op  \n",
       "0     PA  783-698-4808                Summer  \n",
       "1     NY  603-954-1864                   All  \n",
       "2     NJ  583-407-8265                  Fall  \n",
       "3     NJ  103-528-3425                Spring  \n",
       "4     NY  643-102-3350                Spring  \n",
       "..   ...           ...                   ...  \n",
       "95    PA  686-308-3398                  Fall  \n",
       "96    NJ  410-293-6678                Spring  \n",
       "97    NY  588-280-6350                   All  \n",
       "98    NY  133-546-8956  Spring, Summer, Fall  \n",
       "99    NY  229-329-7447                  Fall  \n",
       "\n",
       "[100 rows x 8 columns]"
      ]
     },
     "execution_count": 8,
     "metadata": {},
     "output_type": "execute_result"
    }
   ],
   "source": [
    "d =  {\n",
    "      'name':market_names,\n",
    "      'open_hours': open_times, \n",
    "      'close_hours': close_times, \n",
    "      'street': street_names, \n",
    "      'city': cities, \n",
    "      'state': states, \n",
    "      'phone_number': phone_numbers, \n",
    "      'season_op': seasons_op}\n",
    "\n",
    "final_df = pd.DataFrame(data=d)\n",
    "\n",
    "final_df\n",
    "    "
   ]
  },
  {
   "cell_type": "code",
   "execution_count": 9,
   "metadata": {
    "tags": []
   },
   "outputs": [],
   "source": [
    "final_df.to_csv('./csv_files/market_relation.csv', header= False)"
   ]
  },
  {
   "cell_type": "code",
   "execution_count": null,
   "metadata": {},
   "outputs": [],
   "source": []
  },
  {
   "cell_type": "code",
   "execution_count": null,
   "metadata": {},
   "outputs": [],
   "source": []
  }
 ],
 "metadata": {
  "kernelspec": {
   "display_name": "Python 3 (ipykernel)",
   "language": "python",
   "name": "python3"
  },
  "language_info": {
   "codemirror_mode": {
    "name": "ipython",
    "version": 3
   },
   "file_extension": ".py",
   "mimetype": "text/x-python",
   "name": "python",
   "nbconvert_exporter": "python",
   "pygments_lexer": "ipython3",
   "version": "3.9.18"
  }
 },
 "nbformat": 4,
 "nbformat_minor": 4
}
