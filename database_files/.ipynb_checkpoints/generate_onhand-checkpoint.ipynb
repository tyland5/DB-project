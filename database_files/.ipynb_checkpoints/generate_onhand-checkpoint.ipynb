{
 "cells": [
  {
   "cell_type": "code",
   "execution_count": 1,
   "metadata": {
    "tags": []
   },
   "outputs": [],
   "source": [
    "import pandas as pd\n",
    "import numpy as np\n",
    "import random\n",
    "from collections import defaultdict"
   ]
  },
  {
   "cell_type": "code",
   "execution_count": 2,
   "metadata": {
    "tags": []
   },
   "outputs": [
    {
     "name": "stdout",
     "output_type": "stream",
     "text": [
      "5378\n",
      "773\n"
     ]
    }
   ],
   "source": [
    "# get created product relation\n",
    "df_products = pd.read_csv('./csv_files/products_relation.csv', header = None).values\n",
    "n = len(df_products)\n",
    "\n",
    "# get created hosts relation\n",
    "df_hosts = pd.read_csv('./csv_files/hosts_relation.csv', header = None).values\n",
    "m = len(df_hosts)\n",
    "\n",
    "print(n)\n",
    "print(m)"
   ]
  },
  {
   "cell_type": "code",
   "execution_count": 3,
   "metadata": {
    "tags": []
   },
   "outputs": [
    {
     "data": {
      "text/plain": [
       "array([[0, 'Pomegranates', 2.99],\n",
       "       [0, 'Lettuce', 3.26],\n",
       "       [0, 'Beets', 3.01],\n",
       "       ...,\n",
       "       [849, 'Thyme', 5.42],\n",
       "       [849, 'Turnips', 3.68],\n",
       "       [849, 'Parsley', 4.64]], dtype=object)"
      ]
     },
     "execution_count": 3,
     "metadata": {},
     "output_type": "execute_result"
    }
   ],
   "source": [
    "df_products"
   ]
  },
  {
   "cell_type": "code",
   "execution_count": 4,
   "metadata": {
    "tags": []
   },
   "outputs": [
    {
     "data": {
      "text/plain": [
       "850"
      ]
     },
     "execution_count": 4,
     "metadata": {},
     "output_type": "execute_result"
    }
   ],
   "source": [
    "# make dictionary. vendor -> set of products they sell\n",
    "# Ex: 12 -> {(apple, 1.24) (grapes, 2.31)}\n",
    "vendor_product_dict = defaultdict(set)\n",
    "\n",
    "for sample in df_products:\n",
    "    vendor_id = sample[0]\n",
    "    product = sample[1]\n",
    "    price = sample[2]\n",
    "    \n",
    "    vendor_product_dict[vendor_id].add((product, price))\n",
    "\n",
    "len(vendor_product_dict)"
   ]
  },
  {
   "cell_type": "code",
   "execution_count": 5,
   "metadata": {
    "tags": []
   },
   "outputs": [
    {
     "data": {
      "text/plain": [
       "93"
      ]
     },
     "execution_count": 5,
     "metadata": {},
     "output_type": "execute_result"
    }
   ],
   "source": [
    "# make dictionary for market and vendors. market -> list of vendors it hosts\n",
    "market_vendor_dict = defaultdict(list)\n",
    "\n",
    "for sample in df_hosts:\n",
    "    market_id = sample[0]\n",
    "    vendor_id = sample[1]\n",
    "    \n",
    "    market_vendor_dict[market_id].append(vendor_id)\n",
    "    \n",
    "len(market_vendor_dict)"
   ]
  },
  {
   "cell_type": "code",
   "execution_count": 6,
   "metadata": {
    "tags": []
   },
   "outputs": [],
   "source": [
    "market_ids = sorted(list(market_vendor_dict.keys()))\n",
    "market_col = []\n",
    "vendor_col = []\n",
    "product_col = []\n",
    "price_col = []\n",
    "qty_col = []\n",
    "\n",
    "# add products from each respective vendor a market hosts to the on hand relation columns\n",
    "for market_id in market_ids:\n",
    "    for vendor_id in market_vendor_dict[market_id]:\n",
    "        max_products = len(vendor_product_dict[vendor_id])\n",
    "        num_products = random.randint(0, max_products)\n",
    "        \n",
    "        counter = 0 # keep track num of products we added\n",
    "        for product, price in vendor_product_dict[vendor_id]: # set so we get random elements easily\n",
    "            if counter >= num_products:\n",
    "                break\n",
    "            \n",
    "            market_col.append(market_id)\n",
    "            vendor_col.append(vendor_id)\n",
    "            product_col.append(product)\n",
    "            price_col.append(price)\n",
    "            qty = random.randint(0, 20)\n",
    "            qty_col.append(qty)\n",
    "            \n",
    "            counter += 1"
   ]
  },
  {
   "cell_type": "code",
   "execution_count": 7,
   "metadata": {
    "tags": []
   },
   "outputs": [
    {
     "name": "stdout",
     "output_type": "stream",
     "text": [
      "2528\n",
      "2528\n",
      "2528\n",
      "2528\n"
     ]
    }
   ],
   "source": [
    "print(len(market_col))\n",
    "print(len(product_col))\n",
    "print(len(price_col))\n",
    "print(len(qty_col))"
   ]
  },
  {
   "cell_type": "code",
   "execution_count": 8,
   "metadata": {},
   "outputs": [
    {
     "data": {
      "text/html": [
       "<div>\n",
       "<style scoped>\n",
       "    .dataframe tbody tr th:only-of-type {\n",
       "        vertical-align: middle;\n",
       "    }\n",
       "\n",
       "    .dataframe tbody tr th {\n",
       "        vertical-align: top;\n",
       "    }\n",
       "\n",
       "    .dataframe thead th {\n",
       "        text-align: right;\n",
       "    }\n",
       "</style>\n",
       "<table border=\"1\" class=\"dataframe\">\n",
       "  <thead>\n",
       "    <tr style=\"text-align: right;\">\n",
       "      <th></th>\n",
       "      <th>market_id</th>\n",
       "      <th>vendor_id</th>\n",
       "      <th>name</th>\n",
       "      <th>price</th>\n",
       "      <th>quantity</th>\n",
       "    </tr>\n",
       "  </thead>\n",
       "  <tbody>\n",
       "    <tr>\n",
       "      <th>0</th>\n",
       "      <td>0</td>\n",
       "      <td>375</td>\n",
       "      <td>Oranges</td>\n",
       "      <td>1.79</td>\n",
       "      <td>2</td>\n",
       "    </tr>\n",
       "    <tr>\n",
       "      <th>1</th>\n",
       "      <td>0</td>\n",
       "      <td>375</td>\n",
       "      <td>Lemons</td>\n",
       "      <td>3.37</td>\n",
       "      <td>11</td>\n",
       "    </tr>\n",
       "    <tr>\n",
       "      <th>2</th>\n",
       "      <td>0</td>\n",
       "      <td>375</td>\n",
       "      <td>Peaches</td>\n",
       "      <td>3.26</td>\n",
       "      <td>20</td>\n",
       "    </tr>\n",
       "    <tr>\n",
       "      <th>3</th>\n",
       "      <td>0</td>\n",
       "      <td>375</td>\n",
       "      <td>Peanuts</td>\n",
       "      <td>1.47</td>\n",
       "      <td>1</td>\n",
       "    </tr>\n",
       "    <tr>\n",
       "      <th>4</th>\n",
       "      <td>0</td>\n",
       "      <td>375</td>\n",
       "      <td>Peas</td>\n",
       "      <td>2.14</td>\n",
       "      <td>10</td>\n",
       "    </tr>\n",
       "    <tr>\n",
       "      <th>...</th>\n",
       "      <td>...</td>\n",
       "      <td>...</td>\n",
       "      <td>...</td>\n",
       "      <td>...</td>\n",
       "      <td>...</td>\n",
       "    </tr>\n",
       "    <tr>\n",
       "      <th>2523</th>\n",
       "      <td>99</td>\n",
       "      <td>705</td>\n",
       "      <td>Guavas</td>\n",
       "      <td>3.42</td>\n",
       "      <td>20</td>\n",
       "    </tr>\n",
       "    <tr>\n",
       "      <th>2524</th>\n",
       "      <td>99</td>\n",
       "      <td>705</td>\n",
       "      <td>Bok choy</td>\n",
       "      <td>2.39</td>\n",
       "      <td>9</td>\n",
       "    </tr>\n",
       "    <tr>\n",
       "      <th>2525</th>\n",
       "      <td>99</td>\n",
       "      <td>705</td>\n",
       "      <td>Cabbage</td>\n",
       "      <td>4.05</td>\n",
       "      <td>2</td>\n",
       "    </tr>\n",
       "    <tr>\n",
       "      <th>2526</th>\n",
       "      <td>99</td>\n",
       "      <td>705</td>\n",
       "      <td>Fennel</td>\n",
       "      <td>3.56</td>\n",
       "      <td>6</td>\n",
       "    </tr>\n",
       "    <tr>\n",
       "      <th>2527</th>\n",
       "      <td>99</td>\n",
       "      <td>705</td>\n",
       "      <td>Zucchini</td>\n",
       "      <td>1.84</td>\n",
       "      <td>0</td>\n",
       "    </tr>\n",
       "  </tbody>\n",
       "</table>\n",
       "<p>2528 rows × 5 columns</p>\n",
       "</div>"
      ],
      "text/plain": [
       "      market_id  vendor_id      name  price  quantity\n",
       "0             0        375   Oranges   1.79         2\n",
       "1             0        375    Lemons   3.37        11\n",
       "2             0        375   Peaches   3.26        20\n",
       "3             0        375   Peanuts   1.47         1\n",
       "4             0        375      Peas   2.14        10\n",
       "...         ...        ...       ...    ...       ...\n",
       "2523         99        705    Guavas   3.42        20\n",
       "2524         99        705  Bok choy   2.39         9\n",
       "2525         99        705   Cabbage   4.05         2\n",
       "2526         99        705    Fennel   3.56         6\n",
       "2527         99        705  Zucchini   1.84         0\n",
       "\n",
       "[2528 rows x 5 columns]"
      ]
     },
     "execution_count": 8,
     "metadata": {},
     "output_type": "execute_result"
    }
   ],
   "source": [
    "d =  {'market_id': market_col,\n",
    "      'vendor_id': vendor_col, \n",
    "      'name': product_col,\n",
    "      'price': price_col,\n",
    "      'quantity': qty_col}\n",
    "\n",
    "final_df = pd.DataFrame(data=d)\n",
    "\n",
    "final_df\n",
    "    "
   ]
  },
  {
   "cell_type": "code",
   "execution_count": 9,
   "metadata": {
    "tags": []
   },
   "outputs": [
    {
     "data": {
      "text/html": [
       "<div>\n",
       "<style scoped>\n",
       "    .dataframe tbody tr th:only-of-type {\n",
       "        vertical-align: middle;\n",
       "    }\n",
       "\n",
       "    .dataframe tbody tr th {\n",
       "        vertical-align: top;\n",
       "    }\n",
       "\n",
       "    .dataframe thead th {\n",
       "        text-align: right;\n",
       "    }\n",
       "</style>\n",
       "<table border=\"1\" class=\"dataframe\">\n",
       "  <thead>\n",
       "    <tr style=\"text-align: right;\">\n",
       "      <th></th>\n",
       "      <th>market_id</th>\n",
       "      <th>vendor_id</th>\n",
       "      <th>name</th>\n",
       "      <th>price</th>\n",
       "      <th>quantity</th>\n",
       "    </tr>\n",
       "  </thead>\n",
       "  <tbody>\n",
       "    <tr>\n",
       "      <th>0</th>\n",
       "      <td>0</td>\n",
       "      <td>375</td>\n",
       "      <td>Oranges</td>\n",
       "      <td>1.79</td>\n",
       "      <td>2</td>\n",
       "    </tr>\n",
       "    <tr>\n",
       "      <th>1</th>\n",
       "      <td>0</td>\n",
       "      <td>375</td>\n",
       "      <td>Lemons</td>\n",
       "      <td>3.37</td>\n",
       "      <td>11</td>\n",
       "    </tr>\n",
       "    <tr>\n",
       "      <th>2</th>\n",
       "      <td>0</td>\n",
       "      <td>375</td>\n",
       "      <td>Peaches</td>\n",
       "      <td>3.26</td>\n",
       "      <td>20</td>\n",
       "    </tr>\n",
       "    <tr>\n",
       "      <th>3</th>\n",
       "      <td>0</td>\n",
       "      <td>375</td>\n",
       "      <td>Peanuts</td>\n",
       "      <td>1.47</td>\n",
       "      <td>1</td>\n",
       "    </tr>\n",
       "    <tr>\n",
       "      <th>4</th>\n",
       "      <td>0</td>\n",
       "      <td>375</td>\n",
       "      <td>Peas</td>\n",
       "      <td>2.14</td>\n",
       "      <td>10</td>\n",
       "    </tr>\n",
       "    <tr>\n",
       "      <th>...</th>\n",
       "      <td>...</td>\n",
       "      <td>...</td>\n",
       "      <td>...</td>\n",
       "      <td>...</td>\n",
       "      <td>...</td>\n",
       "    </tr>\n",
       "    <tr>\n",
       "      <th>2523</th>\n",
       "      <td>99</td>\n",
       "      <td>705</td>\n",
       "      <td>Guavas</td>\n",
       "      <td>3.42</td>\n",
       "      <td>20</td>\n",
       "    </tr>\n",
       "    <tr>\n",
       "      <th>2524</th>\n",
       "      <td>99</td>\n",
       "      <td>705</td>\n",
       "      <td>Bok choy</td>\n",
       "      <td>2.39</td>\n",
       "      <td>9</td>\n",
       "    </tr>\n",
       "    <tr>\n",
       "      <th>2525</th>\n",
       "      <td>99</td>\n",
       "      <td>705</td>\n",
       "      <td>Cabbage</td>\n",
       "      <td>4.05</td>\n",
       "      <td>2</td>\n",
       "    </tr>\n",
       "    <tr>\n",
       "      <th>2526</th>\n",
       "      <td>99</td>\n",
       "      <td>705</td>\n",
       "      <td>Fennel</td>\n",
       "      <td>3.56</td>\n",
       "      <td>6</td>\n",
       "    </tr>\n",
       "    <tr>\n",
       "      <th>2527</th>\n",
       "      <td>99</td>\n",
       "      <td>705</td>\n",
       "      <td>Zucchini</td>\n",
       "      <td>1.84</td>\n",
       "      <td>0</td>\n",
       "    </tr>\n",
       "  </tbody>\n",
       "</table>\n",
       "<p>2528 rows × 5 columns</p>\n",
       "</div>"
      ],
      "text/plain": [
       "      market_id  vendor_id      name  price  quantity\n",
       "0             0        375   Oranges   1.79         2\n",
       "1             0        375    Lemons   3.37        11\n",
       "2             0        375   Peaches   3.26        20\n",
       "3             0        375   Peanuts   1.47         1\n",
       "4             0        375      Peas   2.14        10\n",
       "...         ...        ...       ...    ...       ...\n",
       "2523         99        705    Guavas   3.42        20\n",
       "2524         99        705  Bok choy   2.39         9\n",
       "2525         99        705   Cabbage   4.05         2\n",
       "2526         99        705    Fennel   3.56         6\n",
       "2527         99        705  Zucchini   1.84         0\n",
       "\n",
       "[2528 rows x 5 columns]"
      ]
     },
     "execution_count": 9,
     "metadata": {},
     "output_type": "execute_result"
    }
   ],
   "source": [
    "final_df = final_df.drop_duplicates()\n",
    "final_df"
   ]
  },
  {
   "cell_type": "code",
   "execution_count": 10,
   "metadata": {
    "tags": []
   },
   "outputs": [],
   "source": [
    "final_df.to_csv('./csv_files/onhand_relation.csv', index = False, header= False)"
   ]
  },
  {
   "cell_type": "code",
   "execution_count": null,
   "metadata": {},
   "outputs": [],
   "source": []
  },
  {
   "cell_type": "code",
   "execution_count": null,
   "metadata": {},
   "outputs": [],
   "source": []
  }
 ],
 "metadata": {
  "kernelspec": {
   "display_name": "Python 3 (ipykernel)",
   "language": "python",
   "name": "python3"
  },
  "language_info": {
   "codemirror_mode": {
    "name": "ipython",
    "version": 3
   },
   "file_extension": ".py",
   "mimetype": "text/x-python",
   "name": "python",
   "nbconvert_exporter": "python",
   "pygments_lexer": "ipython3",
   "version": "3.9.18"
  }
 },
 "nbformat": 4,
 "nbformat_minor": 4
}
